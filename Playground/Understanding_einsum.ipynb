{
 "cells": [
  {
   "cell_type": "code",
   "execution_count": 0,
   "id": "99d72c4384637e51",
   "metadata": {
    "collapsed": false
   },
   "outputs": [],
   "source": [
    "import torch"
   ]
  },
  {
   "cell_type": "markdown",
   "source": [
    "Matrix transpose"
   ],
   "metadata": {
    "collapsed": false
   },
   "id": "40390c9f2c99420f"
  },
  {
   "cell_type": "code",
   "execution_count": 1,
   "outputs": [
    {
     "data": {
      "text/plain": "tensor([[0, 3],\n        [1, 4],\n        [2, 5]])"
     },
     "execution_count": 1,
     "metadata": {},
     "output_type": "execute_result"
    }
   ],
   "source": [
    "a = torch.arange(6).reshape(2, 3)\n",
    "torch.einsum('ij->ji', [a])"
   ],
   "metadata": {
    "collapsed": true,
    "ExecuteTime": {
     "end_time": "2024-01-11T14:39:35.074381662Z",
     "start_time": "2024-01-11T14:39:34.292459366Z"
    }
   },
   "id": "initial_id"
  },
  {
   "cell_type": "code",
   "execution_count": 10,
   "outputs": [
    {
     "data": {
      "text/plain": "tensor([[0, 1, 2],\n        [3, 4, 5]])"
     },
     "execution_count": 10,
     "metadata": {},
     "output_type": "execute_result"
    }
   ],
   "source": [
    "a"
   ],
   "metadata": {
    "collapsed": false,
    "ExecuteTime": {
     "end_time": "2024-01-11T14:44:22.424454916Z",
     "start_time": "2024-01-11T14:44:22.420656365Z"
    }
   },
   "id": "993d84aa1429bc20"
  },
  {
   "cell_type": "markdown",
   "source": [
    "Sum"
   ],
   "metadata": {
    "collapsed": false
   },
   "id": "f40c34693ae50622"
  },
  {
   "cell_type": "code",
   "execution_count": 4,
   "outputs": [
    {
     "data": {
      "text/plain": "tensor(15)"
     },
     "execution_count": 4,
     "metadata": {},
     "output_type": "execute_result"
    }
   ],
   "source": [
    "torch.einsum('ij->', [a])"
   ],
   "metadata": {
    "collapsed": false,
    "ExecuteTime": {
     "end_time": "2024-01-11T14:42:08.624742464Z",
     "start_time": "2024-01-11T14:42:08.579177871Z"
    }
   },
   "id": "eada9c2bc6761eef"
  },
  {
   "cell_type": "markdown",
   "source": [
    "Sum by axis"
   ],
   "metadata": {
    "collapsed": false
   },
   "id": "6b946d431c8f6b50"
  },
  {
   "cell_type": "code",
   "execution_count": 7,
   "outputs": [
    {
     "data": {
      "text/plain": "tensor([3, 5, 7])"
     },
     "execution_count": 7,
     "metadata": {},
     "output_type": "execute_result"
    }
   ],
   "source": [
    "torch.einsum('ij->j', [a])"
   ],
   "metadata": {
    "collapsed": false,
    "ExecuteTime": {
     "end_time": "2024-01-11T14:43:19.141491330Z",
     "start_time": "2024-01-11T14:43:19.138459577Z"
    }
   },
   "id": "4acca05cba5a3278"
  },
  {
   "cell_type": "markdown",
   "source": [
    "Matrix-vector multiplication"
   ],
   "metadata": {
    "collapsed": false
   },
   "id": "694a4fcc4d7c7d51"
  },
  {
   "cell_type": "code",
   "execution_count": 12,
   "outputs": [
    {
     "data": {
      "text/plain": "tensor([0, 1, 2])"
     },
     "execution_count": 12,
     "metadata": {},
     "output_type": "execute_result"
    }
   ],
   "source": [
    "b = torch.arange(3)\n",
    "b"
   ],
   "metadata": {
    "collapsed": false,
    "ExecuteTime": {
     "end_time": "2024-01-11T14:45:10.946419949Z",
     "start_time": "2024-01-11T14:45:10.941448064Z"
    }
   },
   "id": "e697b365feff084b"
  },
  {
   "cell_type": "code",
   "execution_count": 13,
   "outputs": [
    {
     "data": {
      "text/plain": "tensor([ 5, 14])"
     },
     "execution_count": 13,
     "metadata": {},
     "output_type": "execute_result"
    }
   ],
   "source": [
    "torch.einsum('ij,j->i', [a, b])"
   ],
   "metadata": {
    "collapsed": false,
    "ExecuteTime": {
     "end_time": "2024-01-11T14:45:34.996615183Z",
     "start_time": "2024-01-11T14:45:34.954723468Z"
    }
   },
   "id": "9408d8504fe21bd4"
  },
  {
   "cell_type": "code",
   "execution_count": 14,
   "outputs": [
    {
     "data": {
      "text/plain": "tensor([ 5, 14])"
     },
     "execution_count": 14,
     "metadata": {},
     "output_type": "execute_result"
    }
   ],
   "source": [
    "a @ b"
   ],
   "metadata": {
    "collapsed": false,
    "ExecuteTime": {
     "end_time": "2024-01-11T14:45:45.520151965Z",
     "start_time": "2024-01-11T14:45:45.514725910Z"
    }
   },
   "id": "7fc0287da65b416f"
  },
  {
   "cell_type": "markdown",
   "source": [
    "Matrix-Matrix multiplication"
   ],
   "metadata": {
    "collapsed": false
   },
   "id": "755df011146227da"
  },
  {
   "cell_type": "code",
   "execution_count": 16,
   "outputs": [
    {
     "data": {
      "text/plain": "tensor([[ 0,  1,  2,  3,  4],\n        [ 5,  6,  7,  8,  9],\n        [10, 11, 12, 13, 14]])"
     },
     "execution_count": 16,
     "metadata": {},
     "output_type": "execute_result"
    }
   ],
   "source": [
    "c = torch.arange(15).reshape(3, 5)\n",
    "c"
   ],
   "metadata": {
    "collapsed": false,
    "ExecuteTime": {
     "end_time": "2024-01-11T14:47:01.571772738Z",
     "start_time": "2024-01-11T14:47:01.566623966Z"
    }
   },
   "id": "655604a6d434b4f9"
  },
  {
   "cell_type": "code",
   "execution_count": 17,
   "outputs": [
    {
     "data": {
      "text/plain": "torch.Size([3, 5])"
     },
     "execution_count": 17,
     "metadata": {},
     "output_type": "execute_result"
    }
   ],
   "source": [
    "c.shape"
   ],
   "metadata": {
    "collapsed": false,
    "ExecuteTime": {
     "end_time": "2024-01-11T14:47:08.844637812Z",
     "start_time": "2024-01-11T14:47:08.802065029Z"
    }
   },
   "id": "7cba776be74846cd"
  },
  {
   "cell_type": "code",
   "execution_count": 18,
   "outputs": [
    {
     "data": {
      "text/plain": "torch.Size([2, 3])"
     },
     "execution_count": 18,
     "metadata": {},
     "output_type": "execute_result"
    }
   ],
   "source": [
    "a.shape"
   ],
   "metadata": {
    "collapsed": false,
    "ExecuteTime": {
     "end_time": "2024-01-11T14:47:12.473413599Z",
     "start_time": "2024-01-11T14:47:12.471498609Z"
    }
   },
   "id": "29fd796769ab8e7"
  },
  {
   "cell_type": "code",
   "execution_count": 19,
   "outputs": [
    {
     "data": {
      "text/plain": "tensor([[ 25,  28,  31,  34,  37],\n        [ 70,  82,  94, 106, 118]])"
     },
     "execution_count": 19,
     "metadata": {},
     "output_type": "execute_result"
    }
   ],
   "source": [
    "torch.einsum('ik,kj->ij', [a, c])"
   ],
   "metadata": {
    "collapsed": false,
    "ExecuteTime": {
     "end_time": "2024-01-11T14:47:48.076624091Z",
     "start_time": "2024-01-11T14:47:48.030469439Z"
    }
   },
   "id": "683d10cc1cbae587"
  },
  {
   "cell_type": "code",
   "execution_count": 21,
   "outputs": [
    {
     "data": {
      "text/plain": "tensor([[ 25,  28,  31,  34,  37],\n        [ 70,  82,  94, 106, 118]])"
     },
     "execution_count": 21,
     "metadata": {},
     "output_type": "execute_result"
    }
   ],
   "source": [
    "a @ c"
   ],
   "metadata": {
    "collapsed": false,
    "ExecuteTime": {
     "end_time": "2024-01-11T14:48:15.297266348Z",
     "start_time": "2024-01-11T14:48:15.292455437Z"
    }
   },
   "id": "6f184716d68c602"
  },
  {
   "cell_type": "markdown",
   "source": [
    "Dot product"
   ],
   "metadata": {
    "collapsed": false
   },
   "id": "45b79ea966174d66"
  },
  {
   "cell_type": "code",
   "execution_count": 23,
   "outputs": [
    {
     "data": {
      "text/plain": "tensor(14)"
     },
     "execution_count": 23,
     "metadata": {},
     "output_type": "execute_result"
    }
   ],
   "source": [
    "a = torch.arange(3)\n",
    "b = torch.arange(3, 6)\n",
    "torch.einsum('i,i->', [a, b])"
   ],
   "metadata": {
    "collapsed": false,
    "ExecuteTime": {
     "end_time": "2024-01-11T14:49:32.528659074Z",
     "start_time": "2024-01-11T14:49:32.486868315Z"
    }
   },
   "id": "8323a201f30bf9f7"
  },
  {
   "cell_type": "code",
   "execution_count": 24,
   "outputs": [
    {
     "data": {
      "text/plain": "tensor(14)"
     },
     "execution_count": 24,
     "metadata": {},
     "output_type": "execute_result"
    }
   ],
   "source": [
    "a @ b"
   ],
   "metadata": {
    "collapsed": false,
    "ExecuteTime": {
     "end_time": "2024-01-11T14:49:45.296623759Z",
     "start_time": "2024-01-11T14:49:45.251378893Z"
    }
   },
   "id": "a16f73cdc7339c3e"
  },
  {
   "cell_type": "markdown",
   "source": [
    "HADAMARD product"
   ],
   "metadata": {
    "collapsed": false
   },
   "id": "283c192aab8a03ff"
  },
  {
   "cell_type": "code",
   "execution_count": 25,
   "outputs": [
    {
     "data": {
      "text/plain": "tensor([[ 0,  7, 16],\n        [27, 40, 55]])"
     },
     "execution_count": 25,
     "metadata": {},
     "output_type": "execute_result"
    }
   ],
   "source": [
    "a = torch.arange(6).reshape(2, 3)\n",
    "b = torch.arange(6,12).reshape(2, 3)\n",
    "torch.einsum('ij,ij->ij', [a, b])"
   ],
   "metadata": {
    "collapsed": false,
    "ExecuteTime": {
     "end_time": "2024-01-11T14:56:10.956689133Z",
     "start_time": "2024-01-11T14:56:10.915681994Z"
    }
   },
   "id": "d376f896b6123f8b"
  },
  {
   "cell_type": "markdown",
   "source": [
    "Batch Matrix Multiplication"
   ],
   "metadata": {
    "collapsed": false
   },
   "id": "9e69497139b7cfc8"
  },
  {
   "cell_type": "code",
   "execution_count": 26,
   "outputs": [
    {
     "data": {
      "text/plain": "tensor([[[ 0.8891,  1.2693, -0.1136],\n         [ 0.3476,  4.1269, -1.4629]],\n\n        [[ 0.3086,  2.0349, -3.6681],\n         [-0.5799, -2.5252,  2.7563]],\n\n        [[ 0.2753, -4.5057, -4.2450],\n         [ 1.1568, -4.0025, -3.1627]]])"
     },
     "execution_count": 26,
     "metadata": {},
     "output_type": "execute_result"
    }
   ],
   "source": [
    "a = torch.randn(3,2,5)\n",
    "b = torch.randn(3,5,3)\n",
    "torch.einsum('ijk,ikl->ijl', [a, b])"
   ],
   "metadata": {
    "collapsed": false,
    "ExecuteTime": {
     "end_time": "2024-01-11T14:56:38.560696176Z",
     "start_time": "2024-01-11T14:56:38.518658543Z"
    }
   },
   "id": "5b769d543c39da7f"
  },
  {
   "cell_type": "markdown",
   "source": [
    "Tensor Contraction"
   ],
   "metadata": {
    "collapsed": false
   },
   "id": "580c64fa4aab1eeb"
  },
  {
   "cell_type": "code",
   "execution_count": 27,
   "outputs": [
    {
     "data": {
      "text/plain": "torch.Size([2, 7, 11, 13, 17])"
     },
     "execution_count": 27,
     "metadata": {},
     "output_type": "execute_result"
    }
   ],
   "source": [
    "a = torch.randn(2,3,5,7)\n",
    "b = torch.randn(11,13,3,17,5)\n",
    "torch.einsum('pqrs,tuqvr->pstuv', [a, b]).shape"
   ],
   "metadata": {
    "collapsed": false,
    "ExecuteTime": {
     "end_time": "2024-01-11T14:59:36.680640996Z",
     "start_time": "2024-01-11T14:59:36.638912426Z"
    }
   },
   "id": "e69e67c723c5ff13"
  },
  {
   "cell_type": "code",
   "execution_count": 28,
   "outputs": [],
   "source": [
    "a = torch.arange(6)"
   ],
   "metadata": {
    "collapsed": false,
    "ExecuteTime": {
     "end_time": "2024-01-11T15:02:41.336599284Z",
     "start_time": "2024-01-11T15:02:41.294958709Z"
    }
   },
   "id": "29594aca5251d9ba"
  },
  {
   "cell_type": "code",
   "execution_count": 29,
   "outputs": [
    {
     "data": {
      "text/plain": "tensor([0, 1, 2, 3, 4, 5])"
     },
     "execution_count": 29,
     "metadata": {},
     "output_type": "execute_result"
    }
   ],
   "source": [
    "a"
   ],
   "metadata": {
    "collapsed": false,
    "ExecuteTime": {
     "end_time": "2024-01-11T15:02:44.536843335Z",
     "start_time": "2024-01-11T15:02:44.521959474Z"
    }
   },
   "id": "11ab70f680a70736"
  },
  {
   "cell_type": "code",
   "execution_count": 37,
   "outputs": [
    {
     "data": {
      "text/plain": "tensor([[ 0,  0,  0,  0,  0,  0],\n        [ 0,  1,  2,  3,  4,  5],\n        [ 0,  2,  4,  6,  8, 10],\n        [ 0,  3,  6,  9, 12, 15],\n        [ 0,  4,  8, 12, 16, 20],\n        [ 0,  5, 10, 15, 20, 25]])"
     },
     "execution_count": 37,
     "metadata": {},
     "output_type": "execute_result"
    }
   ],
   "source": [
    "torch.einsum('i,j->ij', [a, a])"
   ],
   "metadata": {
    "collapsed": false,
    "ExecuteTime": {
     "end_time": "2024-01-11T15:05:24.452153737Z",
     "start_time": "2024-01-11T15:05:24.447336901Z"
    }
   },
   "id": "f527d298f2529c4f"
  },
  {
   "cell_type": "code",
   "execution_count": null,
   "outputs": [],
   "source": [],
   "metadata": {
    "collapsed": false
   },
   "id": "e381105c5656e945"
  }
 ],
 "metadata": {
  "kernelspec": {
   "display_name": "Python 3",
   "language": "python",
   "name": "python3"
  },
  "language_info": {
   "codemirror_mode": {
    "name": "ipython",
    "version": 2
   },
   "file_extension": ".py",
   "mimetype": "text/x-python",
   "name": "python",
   "nbconvert_exporter": "python",
   "pygments_lexer": "ipython2",
   "version": "2.7.6"
  }
 },
 "nbformat": 4,
 "nbformat_minor": 5
}
