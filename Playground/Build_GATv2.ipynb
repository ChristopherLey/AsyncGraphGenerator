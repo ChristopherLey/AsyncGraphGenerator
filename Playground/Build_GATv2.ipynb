{
 "cells": [
  {
   "cell_type": "code",
   "execution_count": 1,
   "id": "initial_id",
   "metadata": {
    "collapsed": true,
    "ExecuteTime": {
     "end_time": "2024-01-06T17:14:39.985928572Z",
     "start_time": "2024-01-06T17:14:39.045647053Z"
    }
   },
   "outputs": [],
   "source": [
    "import torch\n",
    "import torch.nn as nn"
   ]
  },
  {
   "cell_type": "code",
   "execution_count": 77,
   "outputs": [
    {
     "data": {
      "text/plain": "tensor([0., 1., 2., 3.])"
     },
     "execution_count": 77,
     "metadata": {},
     "output_type": "execute_result"
    }
   ],
   "source": [
    "# a Single set of nodes\n",
    "q = torch.arange(0, 4).float()\n",
    "q"
   ],
   "metadata": {
    "collapsed": false,
    "ExecuteTime": {
     "end_time": "2024-01-07T17:21:18.439275755Z",
     "start_time": "2024-01-07T17:21:18.384093551Z"
    }
   },
   "id": "edeed779b5e9360f"
  },
  {
   "cell_type": "code",
   "execution_count": 100,
   "outputs": [
    {
     "data": {
      "text/plain": "tensor([2., 4., 6., 8.])"
     },
     "execution_count": 100,
     "metadata": {},
     "output_type": "execute_result"
    }
   ],
   "source": [
    "key = torch.arange(2, 10, 2).float()\n",
    "key"
   ],
   "metadata": {
    "collapsed": false,
    "ExecuteTime": {
     "end_time": "2024-01-07T17:32:23.220958300Z",
     "start_time": "2024-01-07T17:32:23.164002494Z"
    }
   },
   "id": "4ce443fb8b4987b7"
  },
  {
   "cell_type": "markdown",
   "source": [
    "A Directed graph $\\mathcal{G} = (\\mathcal{V}, \\mathcal{E})$ contains a set of nodes $\\mathcal{V} = \\{1, \\ldots,n\\}$ and a set of edges $\\mathcal{E} \\subseteq \\mathcal{V} \\times \\mathcal{V}$, where $(j, i) \\in \\mathcal{E}$ denotes an edge from node $j$ to node $i$. We assume that every node $i \\in \\mathcal{V}$ has an initial representation $\\mathbf{h}_i^{(0)} \\in \\mathbb{R}^{d_0}$.\n",
    "\n",
    "A graph nerual network (GNN) layer updates every node representation by aggregating its neighbours' representations. A layer's input is a set of node represnetations $\\{\\mathbf{h}_i \\in \\mathbb{R}^{d}| i \\in \\mathcal{V}$  and the set of edges $\\mathcal{E}$. A layer outputs a new set of node representations $\\{\\mathbf{h}_i' \\in \\mathbb{R}^{d'}| i \\in \\mathcal{V}\\}$, where the same parametric function is applied to every node given its neighbours $\\mathcal{N}_i = \\{j \\in \\mathcal{V} | (j, i) \\in \\mathcal{E}\\}$:\n",
    "$$\\mathbf{h}_i' = f_{\\theta}(\\mathbf{h}_i), \\text{AGGREGATE}(\\{\\mathbf{h}_j|j\\in \\mathcal{N}_i\\})$$ \n",
    "\n",
    "The design of $f$ and $\\text{AGGREGATE}$ is mostly what distinguishes one type of GNN from the other.\n",
    "\n",
    "For example [_GraphSAGE_ (Hamilton et al., 2017)](https://arxiv.org/abs/1706.02216) uses a mean aggregator, followed by concatenation with $\\mathbf{h}_i$, a linear layer and a ReLU as $f$, i.e.:"
   ],
   "metadata": {
    "collapsed": false
   },
   "id": "9418c4d7bd074f31"
  },
  {
   "cell_type": "code",
   "execution_count": 35,
   "outputs": [],
   "source": [
    "aggregate = (torch.ones_like(q)/q.shape[0]).unsqueeze(0)\n",
    "mean = torch.matmul(aggregate, q.unsqueeze(1))\n",
    "input = torch.cat([q[0:1].unsqueeze(-1), mean], dim=0)\n",
    "W = torch.ones_like(input)\n",
    "h_1 = nn.functional.relu(torch.matmul(W.T, input))"
   ],
   "metadata": {
    "collapsed": false,
    "ExecuteTime": {
     "end_time": "2024-01-06T18:08:12.986602547Z",
     "start_time": "2024-01-06T18:08:12.942491751Z"
    }
   },
   "id": "299e21a7ced0d503"
  },
  {
   "cell_type": "code",
   "execution_count": 36,
   "outputs": [
    {
     "data": {
      "text/plain": "tensor([[4.5000]])"
     },
     "execution_count": 36,
     "metadata": {},
     "output_type": "execute_result"
    }
   ],
   "source": [
    "h_1"
   ],
   "metadata": {
    "collapsed": false,
    "ExecuteTime": {
     "end_time": "2024-01-06T18:08:16.470967658Z",
     "start_time": "2024-01-06T18:08:16.463464840Z"
    }
   },
   "id": "a33c92785441cd5a"
  },
  {
   "cell_type": "markdown",
   "source": [
    "GraphSage and many other popular GNN archtictures weight all neigbours equally (e.g. mean or max-pooling as the AGGREGATE function) e.g."
   ],
   "metadata": {
    "collapsed": false
   },
   "id": "7bc751322113571"
  },
  {
   "cell_type": "code",
   "execution_count": 37,
   "outputs": [
    {
     "data": {
      "text/plain": "tensor([[0.1000, 0.1000, 0.1000, 0.1000, 0.1000, 0.1000, 0.1000, 0.1000, 0.1000,\n         0.1000]])"
     },
     "execution_count": 37,
     "metadata": {},
     "output_type": "execute_result"
    }
   ],
   "source": [
    "aggregate"
   ],
   "metadata": {
    "collapsed": false,
    "ExecuteTime": {
     "end_time": "2024-01-06T18:10:20.358897932Z",
     "start_time": "2024-01-06T18:10:20.317202118Z"
    }
   },
   "id": "298e1054b45067df"
  },
  {
   "cell_type": "markdown",
   "source": [
    "To address this limitation, [Graph Attention Networks (GAT)](https://arxiv.org/abs/1710.10903) (Veličković et al., 2017)  computes a weighted average of the representation of $\\mathcal{N}_i$. A scoring function $e: \\mathbb{R}^d \\times \\mathbb{R}^d \\rightarrow \\mathbb{R}$ computes a score for every edge $(j, i) \\in \\mathcal{E}$, which is then normalized by a softmax function over all edges $(j, i) \\in \\mathcal{E}$, which indicates the importance of the representation of node $j$  to its neighbour $i$:\n",
    "\n",
    "$$e(\\mathbf{h}_i, \\mathbf{h}_j) = \\text{LeakyReLU}(\\mathbf{a}^\\top\\cdot [\\mathbf{Wh}_i\\|\\mathbf{Wh}_j])$$"
   ],
   "metadata": {
    "collapsed": false
   },
   "id": "a0a1b780afdd377b"
  },
  {
   "cell_type": "code",
   "execution_count": 44,
   "outputs": [
    {
     "data": {
      "text/plain": "torch.Size([4, 1])"
     },
     "execution_count": 44,
     "metadata": {},
     "output_type": "execute_result"
    }
   ],
   "source": [
    "attention_weight = torch.ones(4, 1)\n",
    "W = torch.ones(2, 1)\n",
    "e_12 = torch.cat([torch.matmul(W, q[1:2].unsqueeze(-1)), torch.matmul(W, key[2:3].unsqueeze(-1))])"
   ],
   "metadata": {
    "collapsed": false,
    "ExecuteTime": {
     "end_time": "2024-01-06T18:46:15.075497162Z",
     "start_time": "2024-01-06T18:46:15.015170335Z"
    }
   },
   "id": "83afb59049e696a5"
  },
  {
   "cell_type": "markdown",
   "source": [
    "We can break this down into the following steps:\n",
    "Step 1 - Linear Transformation"
   ],
   "metadata": {
    "collapsed": false
   },
   "id": "b052e29ba0ced64f"
  },
  {
   "cell_type": "code",
   "execution_count": 101,
   "outputs": [],
   "source": [
    "W = torch.ones(2, 1)\n",
    "g_query = torch.matmul(W, q.unsqueeze(0))\n",
    "g_key = torch.matmul(W, key.unsqueeze(0))\n",
    "g_value = torch.matmul(W, key.unsqueeze(0))"
   ],
   "metadata": {
    "collapsed": false,
    "ExecuteTime": {
     "end_time": "2024-01-07T17:32:34.793837568Z",
     "start_time": "2024-01-07T17:32:34.787484994Z"
    }
   },
   "id": "b0e017ceb497c4fd"
  },
  {
   "cell_type": "code",
   "execution_count": 102,
   "outputs": [
    {
     "data": {
      "text/plain": "torch.Size([2, 4])"
     },
     "execution_count": 102,
     "metadata": {},
     "output_type": "execute_result"
    }
   ],
   "source": [
    "g_query.shape"
   ],
   "metadata": {
    "collapsed": false,
    "ExecuteTime": {
     "end_time": "2024-01-07T17:32:35.659121648Z",
     "start_time": "2024-01-07T17:32:35.655454771Z"
    }
   },
   "id": "ac55b56acf3e613"
  },
  {
   "cell_type": "code",
   "execution_count": 103,
   "outputs": [],
   "source": [
    "query_batched = g_query.T.unsqueeze(0)"
   ],
   "metadata": {
    "collapsed": false,
    "ExecuteTime": {
     "end_time": "2024-01-07T17:32:38.417605385Z",
     "start_time": "2024-01-07T17:32:38.416617707Z"
    }
   },
   "id": "c512805fd3b08cbc"
  },
  {
   "cell_type": "code",
   "execution_count": 104,
   "outputs": [
    {
     "data": {
      "text/plain": "torch.Size([1, 4, 2])"
     },
     "execution_count": 104,
     "metadata": {},
     "output_type": "execute_result"
    }
   ],
   "source": [
    "query_batched.shape"
   ],
   "metadata": {
    "collapsed": false,
    "ExecuteTime": {
     "end_time": "2024-01-07T17:32:39.115015897Z",
     "start_time": "2024-01-07T17:32:39.073234990Z"
    }
   },
   "id": "8fd77daa3899c484"
  },
  {
   "cell_type": "code",
   "execution_count": 105,
   "outputs": [
    {
     "data": {
      "text/plain": "torch.Size([1, 4, 2])"
     },
     "execution_count": 105,
     "metadata": {},
     "output_type": "execute_result"
    }
   ],
   "source": [
    "key_batched = g_key.T.unsqueeze(0)\n",
    "key_batched.shape"
   ],
   "metadata": {
    "collapsed": false,
    "ExecuteTime": {
     "end_time": "2024-01-07T17:32:40.941962956Z",
     "start_time": "2024-01-07T17:32:40.924151345Z"
    }
   },
   "id": "21991bbb07ca4ff4"
  },
  {
   "cell_type": "code",
   "execution_count": 106,
   "outputs": [],
   "source": [
    "repeated_q = query_batched.repeat(1, 4, 1)"
   ],
   "metadata": {
    "collapsed": false,
    "ExecuteTime": {
     "end_time": "2024-01-07T17:32:43.507627884Z",
     "start_time": "2024-01-07T17:32:43.506158712Z"
    }
   },
   "id": "49308e5e49712059"
  },
  {
   "cell_type": "code",
   "execution_count": 107,
   "outputs": [
    {
     "data": {
      "text/plain": "torch.Size([1, 16, 2])"
     },
     "execution_count": 107,
     "metadata": {},
     "output_type": "execute_result"
    }
   ],
   "source": [
    "repeated_q.shape"
   ],
   "metadata": {
    "collapsed": false,
    "ExecuteTime": {
     "end_time": "2024-01-07T17:32:44.027278131Z",
     "start_time": "2024-01-07T17:32:44.020761092Z"
    }
   },
   "id": "73470a74d5867101"
  },
  {
   "cell_type": "code",
   "execution_count": 108,
   "outputs": [
    {
     "data": {
      "text/plain": "tensor([[[0., 0.],\n         [1., 1.],\n         [2., 2.],\n         [3., 3.],\n         [0., 0.],\n         [1., 1.],\n         [2., 2.],\n         [3., 3.],\n         [0., 0.],\n         [1., 1.],\n         [2., 2.],\n         [3., 3.],\n         [0., 0.],\n         [1., 1.],\n         [2., 2.],\n         [3., 3.]]])"
     },
     "execution_count": 108,
     "metadata": {},
     "output_type": "execute_result"
    }
   ],
   "source": [
    "repeated_q"
   ],
   "metadata": {
    "collapsed": false,
    "ExecuteTime": {
     "end_time": "2024-01-07T17:32:45.222319376Z",
     "start_time": "2024-01-07T17:32:45.214397653Z"
    }
   },
   "id": "b1920a76d53f774d"
  },
  {
   "cell_type": "code",
   "execution_count": 109,
   "outputs": [],
   "source": [
    "repeated_key = key_batched.repeat_interleave(4, dim=1)"
   ],
   "metadata": {
    "collapsed": false,
    "ExecuteTime": {
     "end_time": "2024-01-07T17:32:47.328287101Z",
     "start_time": "2024-01-07T17:32:47.323002826Z"
    }
   },
   "id": "5590b0ca8091e636"
  },
  {
   "cell_type": "code",
   "execution_count": 110,
   "outputs": [
    {
     "data": {
      "text/plain": "torch.Size([1, 16, 2])"
     },
     "execution_count": 110,
     "metadata": {},
     "output_type": "execute_result"
    }
   ],
   "source": [
    "repeated_key.shape"
   ],
   "metadata": {
    "collapsed": false,
    "ExecuteTime": {
     "end_time": "2024-01-07T17:32:47.946140869Z",
     "start_time": "2024-01-07T17:32:47.938989552Z"
    }
   },
   "id": "325a39010771745d"
  },
  {
   "cell_type": "code",
   "execution_count": 111,
   "outputs": [
    {
     "data": {
      "text/plain": "tensor([[[2., 2.],\n         [2., 2.],\n         [2., 2.],\n         [2., 2.],\n         [4., 4.],\n         [4., 4.],\n         [4., 4.],\n         [4., 4.],\n         [6., 6.],\n         [6., 6.],\n         [6., 6.],\n         [6., 6.],\n         [8., 8.],\n         [8., 8.],\n         [8., 8.],\n         [8., 8.]]])"
     },
     "execution_count": 111,
     "metadata": {},
     "output_type": "execute_result"
    }
   ],
   "source": [
    "repeated_key"
   ],
   "metadata": {
    "collapsed": false,
    "ExecuteTime": {
     "end_time": "2024-01-07T17:32:48.905574599Z",
     "start_time": "2024-01-07T17:32:48.902713285Z"
    }
   },
   "id": "4e51a8b5a376f646"
  },
  {
   "cell_type": "code",
   "execution_count": 112,
   "outputs": [],
   "source": [
    "g_pre_sum = repeated_q + repeated_key"
   ],
   "metadata": {
    "collapsed": false,
    "ExecuteTime": {
     "end_time": "2024-01-07T17:32:52.180428370Z",
     "start_time": "2024-01-07T17:32:52.153672333Z"
    }
   },
   "id": "4c02faf034b29578"
  },
  {
   "cell_type": "code",
   "execution_count": 113,
   "outputs": [
    {
     "data": {
      "text/plain": "tensor([[[ 2.,  2.],\n         [ 3.,  3.],\n         [ 4.,  4.],\n         [ 5.,  5.],\n         [ 4.,  4.],\n         [ 5.,  5.],\n         [ 6.,  6.],\n         [ 7.,  7.],\n         [ 6.,  6.],\n         [ 7.,  7.],\n         [ 8.,  8.],\n         [ 9.,  9.],\n         [ 8.,  8.],\n         [ 9.,  9.],\n         [10., 10.],\n         [11., 11.]]])"
     },
     "execution_count": 113,
     "metadata": {},
     "output_type": "execute_result"
    }
   ],
   "source": [
    "g_pre_sum"
   ],
   "metadata": {
    "collapsed": false,
    "ExecuteTime": {
     "end_time": "2024-01-07T17:32:53.938968439Z",
     "start_time": "2024-01-07T17:32:53.936200650Z"
    }
   },
   "id": "a0d71cde7cfb653a"
  },
  {
   "cell_type": "code",
   "execution_count": 114,
   "outputs": [
    {
     "data": {
      "text/plain": "tensor([[[[ 2.,  2.],\n          [ 3.,  3.],\n          [ 4.,  4.],\n          [ 5.,  5.]],\n\n         [[ 4.,  4.],\n          [ 5.,  5.],\n          [ 6.,  6.],\n          [ 7.,  7.]],\n\n         [[ 6.,  6.],\n          [ 7.,  7.],\n          [ 8.,  8.],\n          [ 9.,  9.]],\n\n         [[ 8.,  8.],\n          [ 9.,  9.],\n          [10., 10.],\n          [11., 11.]]]])"
     },
     "execution_count": 114,
     "metadata": {},
     "output_type": "execute_result"
    }
   ],
   "source": [
    "g_pre_sum.view(1, 4, 4, 2)"
   ],
   "metadata": {
    "collapsed": false,
    "ExecuteTime": {
     "end_time": "2024-01-07T17:32:55.708944704Z",
     "start_time": "2024-01-07T17:32:55.705364194Z"
    }
   },
   "id": "5fab753b8543b2e8"
  },
  {
   "cell_type": "code",
   "execution_count": 115,
   "outputs": [],
   "source": [
    "g_sum = g_pre_sum.view(1, 4, 4, 2)"
   ],
   "metadata": {
    "collapsed": false,
    "ExecuteTime": {
     "end_time": "2024-01-07T17:32:58.613733096Z",
     "start_time": "2024-01-07T17:32:58.590293040Z"
    }
   },
   "id": "6d51da6c66559b3e"
  },
  {
   "cell_type": "code",
   "execution_count": 116,
   "outputs": [
    {
     "data": {
      "text/plain": "torch.Size([1, 4, 4, 2])"
     },
     "execution_count": 116,
     "metadata": {},
     "output_type": "execute_result"
    }
   ],
   "source": [
    "g_sum.shape"
   ],
   "metadata": {
    "collapsed": false,
    "ExecuteTime": {
     "end_time": "2024-01-07T17:33:00.647670614Z",
     "start_time": "2024-01-07T17:33:00.630745546Z"
    }
   },
   "id": "83ba29c6b86a7bb"
  },
  {
   "cell_type": "code",
   "execution_count": 117,
   "outputs": [
    {
     "data": {
      "text/plain": "tensor([2., 4., 6., 8.])"
     },
     "execution_count": 117,
     "metadata": {},
     "output_type": "execute_result"
    }
   ],
   "source": [
    "g_sum[0, :, 0, 0]"
   ],
   "metadata": {
    "collapsed": false,
    "ExecuteTime": {
     "end_time": "2024-01-07T17:33:02.823320318Z",
     "start_time": "2024-01-07T17:33:02.820644460Z"
    }
   },
   "id": "c4e97d0f15301ee4"
  },
  {
   "cell_type": "code",
   "execution_count": 118,
   "outputs": [
    {
     "data": {
      "text/plain": "tensor([3., 5., 7., 9.])"
     },
     "execution_count": 118,
     "metadata": {},
     "output_type": "execute_result"
    }
   ],
   "source": [
    "g_sum[0, :, 1, 0]"
   ],
   "metadata": {
    "collapsed": false,
    "ExecuteTime": {
     "end_time": "2024-01-07T17:33:03.457734063Z",
     "start_time": "2024-01-07T17:33:03.449123099Z"
    }
   },
   "id": "ac2a4fcb8454dcf5"
  },
  {
   "cell_type": "code",
   "execution_count": 119,
   "outputs": [],
   "source": [
    "adjacency = g_sum[0, :, :, 0]"
   ],
   "metadata": {
    "collapsed": false,
    "ExecuteTime": {
     "end_time": "2024-01-07T17:33:04.118490450Z",
     "start_time": "2024-01-07T17:33:04.114045988Z"
    }
   },
   "id": "9cc697eb7b35bbc"
  },
  {
   "cell_type": "code",
   "execution_count": 130,
   "outputs": [
    {
     "data": {
      "text/plain": "tensor([2., 3., 4., 5.])"
     },
     "execution_count": 130,
     "metadata": {},
     "output_type": "execute_result"
    }
   ],
   "source": [
    "adjacency[0]"
   ],
   "metadata": {
    "collapsed": false,
    "ExecuteTime": {
     "end_time": "2024-01-07T17:46:40.782944972Z",
     "start_time": "2024-01-07T17:46:40.738741496Z"
    }
   },
   "id": "1970d29f800022e7"
  },
  {
   "cell_type": "code",
   "execution_count": null,
   "outputs": [],
   "source": [
    "mask = torch.ones_like(adjacency)\n"
   ],
   "metadata": {
    "collapsed": false
   },
   "id": "53e7e9eb2e7ea5ad"
  },
  {
   "cell_type": "code",
   "execution_count": 124,
   "outputs": [],
   "source": [
    "e = g_sum.sum(dim=-1, keepdim=True)"
   ],
   "metadata": {
    "collapsed": false,
    "ExecuteTime": {
     "end_time": "2024-01-07T17:41:10.118856580Z",
     "start_time": "2024-01-07T17:41:10.077521771Z"
    }
   },
   "id": "208fa5d8488d0b2f"
  },
  {
   "cell_type": "code",
   "execution_count": 127,
   "outputs": [
    {
     "data": {
      "text/plain": "tensor([[[[ 2.,  2.],\n          [ 3.,  3.],\n          [ 4.,  4.],\n          [ 5.,  5.]],\n\n         [[ 4.,  4.],\n          [ 5.,  5.],\n          [ 6.,  6.],\n          [ 7.,  7.]],\n\n         [[ 6.,  6.],\n          [ 7.,  7.],\n          [ 8.,  8.],\n          [ 9.,  9.]],\n\n         [[ 8.,  8.],\n          [ 9.,  9.],\n          [10., 10.],\n          [11., 11.]]]])"
     },
     "execution_count": 127,
     "metadata": {},
     "output_type": "execute_result"
    }
   ],
   "source": [
    "g_sum"
   ],
   "metadata": {
    "collapsed": false,
    "ExecuteTime": {
     "end_time": "2024-01-07T17:41:30.471239688Z",
     "start_time": "2024-01-07T17:41:30.463349821Z"
    }
   },
   "id": "187e6ae27d783b6e"
  },
  {
   "cell_type": "code",
   "execution_count": 128,
   "outputs": [],
   "source": [
    "e = e.squeeze(-1)"
   ],
   "metadata": {
    "collapsed": false,
    "ExecuteTime": {
     "end_time": "2024-01-07T17:42:07.738844320Z",
     "start_time": "2024-01-07T17:42:07.691610589Z"
    }
   },
   "id": "4526f1fbf4cd7a92"
  },
  {
   "cell_type": "code",
   "execution_count": 129,
   "outputs": [
    {
     "data": {
      "text/plain": "torch.Size([1, 4, 4])"
     },
     "execution_count": 129,
     "metadata": {},
     "output_type": "execute_result"
    }
   ],
   "source": [
    "e.shape"
   ],
   "metadata": {
    "collapsed": false,
    "ExecuteTime": {
     "end_time": "2024-01-07T17:42:27.322916765Z",
     "start_time": "2024-01-07T17:42:27.279648948Z"
    }
   },
   "id": "38993ef32bb45bfc"
  },
  {
   "cell_type": "code",
   "execution_count": 131,
   "outputs": [
    {
     "data": {
      "text/plain": "tensor([[[ 4.,  6.,  8., 10.],\n         [ 8., 10., 12., 14.],\n         [12., 14., 16., 18.],\n         [16., 18., 20., 22.]]])"
     },
     "execution_count": 131,
     "metadata": {},
     "output_type": "execute_result"
    }
   ],
   "source": [
    "e"
   ],
   "metadata": {
    "collapsed": false,
    "ExecuteTime": {
     "end_time": "2024-01-07T17:54:18.786913955Z",
     "start_time": "2024-01-07T17:54:18.743473544Z"
    }
   },
   "id": "949b88732e134a80"
  },
  {
   "cell_type": "code",
   "execution_count": 132,
   "outputs": [
    {
     "data": {
      "text/plain": "torch.Size([1, 4, 4])"
     },
     "execution_count": 132,
     "metadata": {},
     "output_type": "execute_result"
    }
   ],
   "source": [
    "e.shape"
   ],
   "metadata": {
    "collapsed": false,
    "ExecuteTime": {
     "end_time": "2024-01-07T17:54:25.404714770Z",
     "start_time": "2024-01-07T17:54:25.395356408Z"
    }
   },
   "id": "fa9f7f4c12599f4f"
  },
  {
   "cell_type": "code",
   "execution_count": 133,
   "outputs": [],
   "source": [
    "e = e.unsqueeze(-1)"
   ],
   "metadata": {
    "collapsed": false,
    "ExecuteTime": {
     "end_time": "2024-01-07T17:54:52.071732859Z",
     "start_time": "2024-01-07T17:54:52.019974722Z"
    }
   },
   "id": "34c4b1fef8026e70"
  },
  {
   "cell_type": "code",
   "execution_count": 134,
   "outputs": [
    {
     "data": {
      "text/plain": "torch.Size([1, 4, 4, 1])"
     },
     "execution_count": 134,
     "metadata": {},
     "output_type": "execute_result"
    }
   ],
   "source": [
    "e.shape"
   ],
   "metadata": {
    "collapsed": false,
    "ExecuteTime": {
     "end_time": "2024-01-07T17:54:54.337289936Z",
     "start_time": "2024-01-07T17:54:54.328664538Z"
    }
   },
   "id": "67bc0a40a9229285"
  },
  {
   "cell_type": "code",
   "execution_count": 136,
   "outputs": [
    {
     "data": {
      "text/plain": "tensor([[1., 1., 1., 1.],\n        [0., 1., 1., 1.],\n        [0., 0., 1., 1.],\n        [0., 0., 0., 1.]])"
     },
     "execution_count": 136,
     "metadata": {},
     "output_type": "execute_result"
    }
   ],
   "source": [
    "mask = torch.ones_like(e)\n",
    "mask[0, 1, 0, 0] = 0\n",
    "mask[0, 2, 0, 0] = 0\n",
    "mask[0, 3, 0, 0] = 0\n",
    "mask[0, 2, 1, 0] = 0\n",
    "mask[0, 3, 1, 0] = 0\n",
    "mask[0, 3, 2, 0] = 0\n",
    "mask[0, :, :, 0]"
   ],
   "metadata": {
    "collapsed": false,
    "ExecuteTime": {
     "end_time": "2024-01-07T17:57:38.378100728Z",
     "start_time": "2024-01-07T17:57:38.371141062Z"
    }
   },
   "id": "fd8413142195a034"
  },
  {
   "cell_type": "code",
   "execution_count": 142,
   "outputs": [],
   "source": [
    "attn_res = torch.einsum('bij,bjf->bjf', mask.squeeze(-1), e.squeeze(-1))"
   ],
   "metadata": {
    "collapsed": false,
    "ExecuteTime": {
     "end_time": "2024-01-07T18:03:49.146894211Z",
     "start_time": "2024-01-07T18:03:49.105969243Z"
    }
   },
   "id": "504c78c6bfcb8452"
  },
  {
   "cell_type": "code",
   "execution_count": 143,
   "outputs": [
    {
     "data": {
      "text/plain": "torch.Size([1, 4, 4])"
     },
     "execution_count": 143,
     "metadata": {},
     "output_type": "execute_result"
    }
   ],
   "source": [
    "attn_res.shape"
   ],
   "metadata": {
    "collapsed": false,
    "ExecuteTime": {
     "end_time": "2024-01-07T18:03:49.541838598Z",
     "start_time": "2024-01-07T18:03:49.533128839Z"
    }
   },
   "id": "6756a69ff7a8992e"
  },
  {
   "cell_type": "code",
   "execution_count": 144,
   "outputs": [
    {
     "data": {
      "text/plain": "tensor([[[ 4.,  6.,  8., 10.],\n         [16., 20., 24., 28.],\n         [36., 42., 48., 54.],\n         [64., 72., 80., 88.]]])"
     },
     "execution_count": 144,
     "metadata": {},
     "output_type": "execute_result"
    }
   ],
   "source": [
    "attn_res"
   ],
   "metadata": {
    "collapsed": false,
    "ExecuteTime": {
     "end_time": "2024-01-07T18:03:57.293838265Z",
     "start_time": "2024-01-07T18:03:57.273405131Z"
    }
   },
   "id": "a8f9471c887d687d"
  },
  {
   "cell_type": "code",
   "execution_count": 154,
   "outputs": [],
   "source": [
    "g = torch.arange(0, 16).float().reshape(4, 4, 1)\n",
    "e = torch.arange(0, 16).float().reshape(4, 4, 1)\n"
   ],
   "metadata": {
    "collapsed": false,
    "ExecuteTime": {
     "end_time": "2024-01-07T18:10:27.332814133Z",
     "start_time": "2024-01-07T18:10:27.282508521Z"
    }
   },
   "id": "15a221a7708ffda5"
  },
  {
   "cell_type": "code",
   "execution_count": 150,
   "outputs": [],
   "source": [
    "e = e.masked_fill(mask.squeeze(-1) == 0, float('-inf'))"
   ],
   "metadata": {
    "collapsed": false,
    "ExecuteTime": {
     "end_time": "2024-01-07T18:08:13.618859700Z",
     "start_time": "2024-01-07T18:08:13.578288538Z"
    }
   },
   "id": "d9247d3e36effe57"
  },
  {
   "cell_type": "code",
   "execution_count": 151,
   "outputs": [
    {
     "data": {
      "text/plain": "tensor([[[ 0.,  0.,  0.,  0.],\n         [-inf,  1.,  1.,  1.],\n         [-inf, -inf,  2.,  2.],\n         [-inf, -inf, -inf,  3.]],\n\n        [[ 4.,  4.,  4.,  4.],\n         [-inf,  5.,  5.,  5.],\n         [-inf, -inf,  6.,  6.],\n         [-inf, -inf, -inf,  7.]],\n\n        [[ 8.,  8.,  8.,  8.],\n         [-inf,  9.,  9.,  9.],\n         [-inf, -inf, 10., 10.],\n         [-inf, -inf, -inf, 11.]],\n\n        [[12., 12., 12., 12.],\n         [-inf, 13., 13., 13.],\n         [-inf, -inf, 14., 14.],\n         [-inf, -inf, -inf, 15.]]])"
     },
     "execution_count": 151,
     "metadata": {},
     "output_type": "execute_result"
    }
   ],
   "source": [
    "e"
   ],
   "metadata": {
    "collapsed": false,
    "ExecuteTime": {
     "end_time": "2024-01-07T18:08:16.025511835Z",
     "start_time": "2024-01-07T18:08:16.001875881Z"
    }
   },
   "id": "ab175494443b70fd"
  },
  {
   "cell_type": "code",
   "execution_count": 152,
   "outputs": [],
   "source": [
    "softmax = nn.Softmax(dim=1)"
   ],
   "metadata": {
    "collapsed": false,
    "ExecuteTime": {
     "end_time": "2024-01-07T18:08:49.883091603Z",
     "start_time": "2024-01-07T18:08:49.838544118Z"
    }
   },
   "id": "cbe91f63fdfb2380"
  },
  {
   "cell_type": "code",
   "execution_count": 153,
   "outputs": [
    {
     "data": {
      "text/plain": "tensor([[[1.0000, 0.2689, 0.0900, 0.0321],\n         [0.0000, 0.7311, 0.2447, 0.0871],\n         [0.0000, 0.0000, 0.6652, 0.2369],\n         [0.0000, 0.0000, 0.0000, 0.6439]],\n\n        [[1.0000, 0.2689, 0.0900, 0.0321],\n         [0.0000, 0.7311, 0.2447, 0.0871],\n         [0.0000, 0.0000, 0.6652, 0.2369],\n         [0.0000, 0.0000, 0.0000, 0.6439]],\n\n        [[1.0000, 0.2689, 0.0900, 0.0321],\n         [0.0000, 0.7311, 0.2447, 0.0871],\n         [0.0000, 0.0000, 0.6652, 0.2369],\n         [0.0000, 0.0000, 0.0000, 0.6439]],\n\n        [[1.0000, 0.2689, 0.0900, 0.0321],\n         [0.0000, 0.7311, 0.2447, 0.0871],\n         [0.0000, 0.0000, 0.6652, 0.2369],\n         [0.0000, 0.0000, 0.0000, 0.6439]]])"
     },
     "execution_count": 153,
     "metadata": {},
     "output_type": "execute_result"
    }
   ],
   "source": [
    "softmax(e)"
   ],
   "metadata": {
    "collapsed": false,
    "ExecuteTime": {
     "end_time": "2024-01-07T18:08:53.807700317Z",
     "start_time": "2024-01-07T18:08:53.800727869Z"
    }
   },
   "id": "8d7a60a0981d05a5"
  },
  {
   "cell_type": "code",
   "execution_count": 155,
   "outputs": [],
   "source": [
    "attn_res = torch.einsum('ijh,jhf->ihf', e, g)"
   ],
   "metadata": {
    "collapsed": false,
    "ExecuteTime": {
     "end_time": "2024-01-07T18:10:58.378823517Z",
     "start_time": "2024-01-07T18:10:58.336717863Z"
    }
   },
   "id": "824de7153bdfdbf4"
  },
  {
   "cell_type": "code",
   "execution_count": 156,
   "outputs": [
    {
     "data": {
      "text/plain": "torch.Size([4, 4, 1])"
     },
     "execution_count": 156,
     "metadata": {},
     "output_type": "execute_result"
    }
   ],
   "source": [
    "attn_res.shape"
   ],
   "metadata": {
    "collapsed": false,
    "ExecuteTime": {
     "end_time": "2024-01-07T18:11:00.545013391Z",
     "start_time": "2024-01-07T18:11:00.518964538Z"
    }
   },
   "id": "675be379ab07e177"
  },
  {
   "cell_type": "code",
   "execution_count": 158,
   "outputs": [
    {
     "data": {
      "text/plain": "tensor([[ 56.,  62.,  68.,  74.],\n        [152., 174., 196., 218.],\n        [248., 286., 324., 362.],\n        [344., 398., 452., 506.]])"
     },
     "execution_count": 158,
     "metadata": {},
     "output_type": "execute_result"
    }
   ],
   "source": [
    "attn_res[:, :, 0]"
   ],
   "metadata": {
    "collapsed": false,
    "ExecuteTime": {
     "end_time": "2024-01-07T18:11:17.210957197Z",
     "start_time": "2024-01-07T18:11:17.170651201Z"
    }
   },
   "id": "dd496dbf8f95a759"
  },
  {
   "cell_type": "code",
   "execution_count": 159,
   "outputs": [
    {
     "data": {
      "text/plain": "tensor([[[ 0.],\n         [ 1.],\n         [ 2.],\n         [ 3.]],\n\n        [[ 4.],\n         [ 5.],\n         [ 6.],\n         [ 7.]],\n\n        [[ 8.],\n         [ 9.],\n         [10.],\n         [11.]],\n\n        [[12.],\n         [13.],\n         [14.],\n         [15.]]])"
     },
     "execution_count": 159,
     "metadata": {},
     "output_type": "execute_result"
    }
   ],
   "source": [
    "g"
   ],
   "metadata": {
    "collapsed": false,
    "ExecuteTime": {
     "end_time": "2024-01-07T18:14:25.815842922Z",
     "start_time": "2024-01-07T18:14:25.758528303Z"
    }
   },
   "id": "e8ea32fc5cb17a2f"
  },
  {
   "cell_type": "code",
   "execution_count": 161,
   "outputs": [
    {
     "data": {
      "text/plain": "torch.Size([2, 4])"
     },
     "execution_count": 161,
     "metadata": {},
     "output_type": "execute_result"
    }
   ],
   "source": [
    "g_value.shape"
   ],
   "metadata": {
    "collapsed": false,
    "ExecuteTime": {
     "end_time": "2024-01-07T18:15:01.557166212Z",
     "start_time": "2024-01-07T18:15:01.548004165Z"
    }
   },
   "id": "de943f0e4c3d45cd"
  },
  {
   "cell_type": "code",
   "execution_count": 162,
   "outputs": [],
   "source": [
    "g_value = g_value.T"
   ],
   "metadata": {
    "collapsed": false,
    "ExecuteTime": {
     "end_time": "2024-01-07T18:16:10.170114086Z",
     "start_time": "2024-01-07T18:16:10.124939298Z"
    }
   },
   "id": "dfef101b449f6e1d"
  },
  {
   "cell_type": "code",
   "execution_count": 163,
   "outputs": [
    {
     "data": {
      "text/plain": "torch.Size([4, 2])"
     },
     "execution_count": 163,
     "metadata": {},
     "output_type": "execute_result"
    }
   ],
   "source": [
    "g_value.shape"
   ],
   "metadata": {
    "collapsed": false,
    "ExecuteTime": {
     "end_time": "2024-01-07T18:16:13.412238311Z",
     "start_time": "2024-01-07T18:16:13.390889813Z"
    }
   },
   "id": "26ccae4808021da"
  },
  {
   "cell_type": "code",
   "execution_count": 164,
   "outputs": [],
   "source": [
    "g_value = g_value.unsqueeze(1)"
   ],
   "metadata": {
    "collapsed": false,
    "ExecuteTime": {
     "end_time": "2024-01-07T18:20:24.953714937Z",
     "start_time": "2024-01-07T18:20:24.880535103Z"
    }
   },
   "id": "779024f627517abc"
  },
  {
   "cell_type": "code",
   "execution_count": 165,
   "outputs": [
    {
     "data": {
      "text/plain": "torch.Size([4, 4, 1])"
     },
     "execution_count": 165,
     "metadata": {},
     "output_type": "execute_result"
    }
   ],
   "source": [
    "e.shape"
   ],
   "metadata": {
    "collapsed": false,
    "ExecuteTime": {
     "end_time": "2024-01-07T18:20:33.914186818Z",
     "start_time": "2024-01-07T18:20:33.894931454Z"
    }
   },
   "id": "761b9414294cff27"
  },
  {
   "cell_type": "code",
   "execution_count": 166,
   "outputs": [
    {
     "data": {
      "text/plain": "torch.Size([4, 1, 2])"
     },
     "execution_count": 166,
     "metadata": {},
     "output_type": "execute_result"
    }
   ],
   "source": [
    "g_value.shape"
   ],
   "metadata": {
    "collapsed": false,
    "ExecuteTime": {
     "end_time": "2024-01-07T18:20:42.599418883Z",
     "start_time": "2024-01-07T18:20:42.542964424Z"
    }
   },
   "id": "5f626bc41afa0fb5"
  },
  {
   "cell_type": "code",
   "execution_count": 193,
   "outputs": [
    {
     "data": {
      "text/plain": "tensor([[1., 0., 0., 0.],\n        [1., 1., 0., 0.],\n        [1., 1., 1., 0.],\n        [1., 1., 1., 1.]])"
     },
     "execution_count": 193,
     "metadata": {},
     "output_type": "execute_result"
    }
   ],
   "source": [
    "mask = mask.transpose(0, 1)\n",
    "mask[:, :, 0]"
   ],
   "metadata": {
    "collapsed": false,
    "ExecuteTime": {
     "end_time": "2024-01-07T18:30:16.552481495Z",
     "start_time": "2024-01-07T18:30:16.507842650Z"
    }
   },
   "id": "f0457278b459332d"
  },
  {
   "cell_type": "code",
   "execution_count": 194,
   "outputs": [
    {
     "data": {
      "text/plain": "tensor([[1.0000, 0.0000, 0.0000, 0.0000],\n        [0.2689, 0.7311, 0.0000, 0.0000],\n        [0.0900, 0.2447, 0.6652, 0.0000],\n        [0.0321, 0.0871, 0.2369, 0.6439]])"
     },
     "execution_count": 194,
     "metadata": {},
     "output_type": "execute_result"
    }
   ],
   "source": [
    "e = torch.arange(0, 16).float().reshape(4, 4, 1)\n",
    "e = e.masked_fill(mask == 0, float('-inf'))\n",
    "e = softmax(e)\n",
    "e[:, :, 0]"
   ],
   "metadata": {
    "collapsed": false,
    "ExecuteTime": {
     "end_time": "2024-01-07T18:30:25.942520879Z",
     "start_time": "2024-01-07T18:30:25.828978919Z"
    }
   },
   "id": "cc222f40a7da81de"
  },
  {
   "cell_type": "code",
   "execution_count": 195,
   "outputs": [],
   "source": [
    "\n",
    "attn_res = torch.einsum('ijh,jhf->ihf', e, g_value)"
   ],
   "metadata": {
    "collapsed": false,
    "ExecuteTime": {
     "end_time": "2024-01-07T18:30:29.317366353Z",
     "start_time": "2024-01-07T18:30:29.314038494Z"
    }
   },
   "id": "90dfb5fbdd3dcfd4"
  },
  {
   "cell_type": "code",
   "execution_count": 196,
   "outputs": [
    {
     "data": {
      "text/plain": "torch.Size([4, 1, 2])"
     },
     "execution_count": 196,
     "metadata": {},
     "output_type": "execute_result"
    }
   ],
   "source": [
    "attn_res.shape"
   ],
   "metadata": {
    "collapsed": false,
    "ExecuteTime": {
     "end_time": "2024-01-07T18:30:31.312023407Z",
     "start_time": "2024-01-07T18:30:31.308850281Z"
    }
   },
   "id": "628237ece6bc01ff"
  },
  {
   "cell_type": "code",
   "execution_count": 197,
   "outputs": [
    {
     "data": {
      "text/plain": "tensor([[[2., 2.]],\n\n        [[4., 4.]],\n\n        [[6., 6.]],\n\n        [[8., 8.]]])"
     },
     "execution_count": 197,
     "metadata": {},
     "output_type": "execute_result"
    }
   ],
   "source": [
    "g_value"
   ],
   "metadata": {
    "collapsed": false,
    "ExecuteTime": {
     "end_time": "2024-01-07T18:30:32.132272884Z",
     "start_time": "2024-01-07T18:30:32.116343102Z"
    }
   },
   "id": "674a466efc3e7f0e"
  },
  {
   "cell_type": "code",
   "execution_count": 198,
   "outputs": [
    {
     "data": {
      "text/plain": "tensor([[[2.0000, 2.0000]],\n\n        [[3.4621, 3.4621]],\n\n        [[5.1504, 5.1504]],\n\n        [[6.9853, 6.9853]]])"
     },
     "execution_count": 198,
     "metadata": {},
     "output_type": "execute_result"
    }
   ],
   "source": [
    "attn_res"
   ],
   "metadata": {
    "collapsed": false,
    "ExecuteTime": {
     "end_time": "2024-01-07T18:30:32.990073241Z",
     "start_time": "2024-01-07T18:30:32.984158260Z"
    }
   },
   "id": "6cdc5bd2e02664e9"
  },
  {
   "cell_type": "code",
   "execution_count": null,
   "outputs": [],
   "source": [],
   "metadata": {
    "collapsed": false
   },
   "id": "5b3d8365107ec7a4"
  }
 ],
 "metadata": {
  "kernelspec": {
   "display_name": "Python 3",
   "language": "python",
   "name": "python3"
  },
  "language_info": {
   "codemirror_mode": {
    "name": "ipython",
    "version": 2
   },
   "file_extension": ".py",
   "mimetype": "text/x-python",
   "name": "python",
   "nbconvert_exporter": "python",
   "pygments_lexer": "ipython2",
   "version": "2.7.6"
  }
 },
 "nbformat": 4,
 "nbformat_minor": 5
}
