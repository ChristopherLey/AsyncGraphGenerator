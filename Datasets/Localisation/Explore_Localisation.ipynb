{
  "cells": [
  {
   "cell_type": "code",
   "execution_count": 2,
   "metadata": {
    "collapsed": true,
    "ExecuteTime": {
     "end_time": "2023-06-30T19:58:07.667097593Z",
     "start_time": "2023-06-30T19:58:07.503190207Z"
    }
   },
   "outputs": [],
   "source": [
    "import pandas as pd"
   ]
  },
  {
   "cell_type": "code",
   "execution_count": 3,
   "outputs": [],
   "source": [
    "db = pd.read_csv(\"./localization+data+for+person+activity/ConfLongDemo_JSI.txt\")"
   ],
   "metadata": {
    "collapsed": false,
    "ExecuteTime": {
     "end_time": "2023-06-30T19:59:11.916227608Z",
     "start_time": "2023-06-30T19:59:11.744757152Z"
    }
   }
  },
  {
   "cell_type": "code",
   "execution_count": 4,
   "outputs": [
    {
     "data": {
      "text/plain": "        A01  010-000-024-033  633790226051280329  27.05.2009 14:03:25:127  \\\n0       A01  020-000-033-111  633790226051820913  27.05.2009 14:03:25:183   \n1       A01  020-000-032-221  633790226052091205  27.05.2009 14:03:25:210   \n2       A01  010-000-024-033  633790226052361498  27.05.2009 14:03:25:237   \n3       A01  010-000-030-096  633790226052631792  27.05.2009 14:03:25:263   \n4       A01  020-000-033-111  633790226052902087  27.05.2009 14:03:25:290   \n...     ...              ...                 ...                      ...   \n164854  E05  010-000-030-096  633790146419554374  27.05.2009 11:50:41:957   \n164855  E05  010-000-024-033  633790146419824669  27.05.2009 11:50:41:983   \n164856  E05  020-000-033-111  633790146420094965  27.05.2009 11:50:42:010   \n164857  E05  010-000-030-096  633790146420635550  27.05.2009 11:50:42:063   \n164858  E05  010-000-024-033  633790146420905847  27.05.2009 11:50:42:090   \n\n        4.062931060791016  1.8924342393875122  0.5074254274368286  walking  \n0                4.291954            1.781140            1.344495  walking  \n1                4.359101            1.826456            0.968821  walking  \n2                4.087835            1.879999            0.466983  walking  \n3                4.324462            2.072460            0.488065  walking  \n4                4.364077            1.767691            1.299996  walking  \n...                   ...                 ...                 ...      ...  \n164854           3.209474            2.044571            0.062902  walking  \n164855           3.386878            2.004729            0.395161  walking  \n164856           3.188895            1.915717            1.353087  walking  \n164857           3.150169            1.931164            0.055037  walking  \n164858           3.209994            1.939577            0.364777  walking  \n\n[164859 rows x 8 columns]",
      "text/html": "<div>\n<style scoped>\n    .dataframe tbody tr th:only-of-type {\n        vertical-align: middle;\n    }\n\n    .dataframe tbody tr th {\n        vertical-align: top;\n    }\n\n    .dataframe thead th {\n        text-align: right;\n    }\n</style>\n<table border=\"1\" class=\"dataframe\">\n  <thead>\n    <tr style=\"text-align: right;\">\n      <th></th>\n      <th>A01</th>\n      <th>010-000-024-033</th>\n      <th>633790226051280329</th>\n      <th>27.05.2009 14:03:25:127</th>\n      <th>4.062931060791016</th>\n      <th>1.8924342393875122</th>\n      <th>0.5074254274368286</th>\n      <th>walking</th>\n    </tr>\n  </thead>\n  <tbody>\n    <tr>\n      <th>0</th>\n      <td>A01</td>\n      <td>020-000-033-111</td>\n      <td>633790226051820913</td>\n      <td>27.05.2009 14:03:25:183</td>\n      <td>4.291954</td>\n      <td>1.781140</td>\n      <td>1.344495</td>\n      <td>walking</td>\n    </tr>\n    <tr>\n      <th>1</th>\n      <td>A01</td>\n      <td>020-000-032-221</td>\n      <td>633790226052091205</td>\n      <td>27.05.2009 14:03:25:210</td>\n      <td>4.359101</td>\n      <td>1.826456</td>\n      <td>0.968821</td>\n      <td>walking</td>\n    </tr>\n    <tr>\n      <th>2</th>\n      <td>A01</td>\n      <td>010-000-024-033</td>\n      <td>633790226052361498</td>\n      <td>27.05.2009 14:03:25:237</td>\n      <td>4.087835</td>\n      <td>1.879999</td>\n      <td>0.466983</td>\n      <td>walking</td>\n    </tr>\n    <tr>\n      <th>3</th>\n      <td>A01</td>\n      <td>010-000-030-096</td>\n      <td>633790226052631792</td>\n      <td>27.05.2009 14:03:25:263</td>\n      <td>4.324462</td>\n      <td>2.072460</td>\n      <td>0.488065</td>\n      <td>walking</td>\n    </tr>\n    <tr>\n      <th>4</th>\n      <td>A01</td>\n      <td>020-000-033-111</td>\n      <td>633790226052902087</td>\n      <td>27.05.2009 14:03:25:290</td>\n      <td>4.364077</td>\n      <td>1.767691</td>\n      <td>1.299996</td>\n      <td>walking</td>\n    </tr>\n    <tr>\n      <th>...</th>\n      <td>...</td>\n      <td>...</td>\n      <td>...</td>\n      <td>...</td>\n      <td>...</td>\n      <td>...</td>\n      <td>...</td>\n      <td>...</td>\n    </tr>\n    <tr>\n      <th>164854</th>\n      <td>E05</td>\n      <td>010-000-030-096</td>\n      <td>633790146419554374</td>\n      <td>27.05.2009 11:50:41:957</td>\n      <td>3.209474</td>\n      <td>2.044571</td>\n      <td>0.062902</td>\n      <td>walking</td>\n    </tr>\n    <tr>\n      <th>164855</th>\n      <td>E05</td>\n      <td>010-000-024-033</td>\n      <td>633790146419824669</td>\n      <td>27.05.2009 11:50:41:983</td>\n      <td>3.386878</td>\n      <td>2.004729</td>\n      <td>0.395161</td>\n      <td>walking</td>\n    </tr>\n    <tr>\n      <th>164856</th>\n      <td>E05</td>\n      <td>020-000-033-111</td>\n      <td>633790146420094965</td>\n      <td>27.05.2009 11:50:42:010</td>\n      <td>3.188895</td>\n      <td>1.915717</td>\n      <td>1.353087</td>\n      <td>walking</td>\n    </tr>\n    <tr>\n      <th>164857</th>\n      <td>E05</td>\n      <td>010-000-030-096</td>\n      <td>633790146420635550</td>\n      <td>27.05.2009 11:50:42:063</td>\n      <td>3.150169</td>\n      <td>1.931164</td>\n      <td>0.055037</td>\n      <td>walking</td>\n    </tr>\n    <tr>\n      <th>164858</th>\n      <td>E05</td>\n      <td>010-000-024-033</td>\n      <td>633790146420905847</td>\n      <td>27.05.2009 11:50:42:090</td>\n      <td>3.209994</td>\n      <td>1.939577</td>\n      <td>0.364777</td>\n      <td>walking</td>\n    </tr>\n  </tbody>\n</table>\n<p>164859 rows × 8 columns</p>\n</div>"
     },
     "execution_count": 4,
     "metadata": {},
     "output_type": "execute_result"
    }
   ],
   "source": [
    "db"
   ],
   "metadata": {
    "collapsed": false,
    "ExecuteTime": {
     "end_time": "2023-06-30T19:59:15.453208733Z",
     "start_time": "2023-06-30T19:59:15.419049442Z"
    }
   }
  },
  {
   "cell_type": "code",
   "execution_count": null,
   "outputs": [],
   "source": [],
   "metadata": {
    "collapsed": false
   }
  }
 ],
 "metadata": {
  "kernelspec": {
   "display_name": "Python 3",
   "language": "python",
   "name": "python3"
  },
  "language_info": {
   "codemirror_mode": {
    "name": "ipython",
    "version": 2
   },
   "file_extension": ".py",
   "mimetype": "text/x-python",
   "name": "python",
   "nbconvert_exporter": "python",
   "pygments_lexer": "ipython2",
   "version": "2.7.6"
  }
 },
 "nbformat": 4,
 "nbformat_minor": 0
}
