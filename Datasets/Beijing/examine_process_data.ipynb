{
  "cells": [
  {
   "cell_type": "code",
   "execution_count": 1,
   "metadata": {
    "pycharm": {
     "is_executing": true
    },
    "tags": [],
    "ExecuteTime": {
     "end_time": "2023-05-12T11:59:40.225738564Z",
     "start_time": "2023-05-12T11:59:40.113415212Z"
    }
   },
   "source": [
    "from pathlib import Path\n",
    "\n",
    "import numpy as np\n",
    "import pandas as pd\n",
    "from datetime import datetime"
   ],
   "outputs": []
  },
  {
   "cell_type": "code",
   "execution_count": 3,
   "metadata": {
    "collapsed": false,
    "jupyter": {
     "outputs_hidden": false
    },
    "ExecuteTime": {
     "end_time": "2023-05-12T12:00:34.612358959Z",
     "start_time": "2023-05-12T12:00:34.556417060Z"
    }
   },
   "source": [
    "data = Path('/data/Datastore/Beijing') / 'pm2_5_df.h5'\n",
    "data.exists()"
   ],
   "outputs": []
  },
  {
   "cell_type": "code",
   "execution_count": 4,
   "metadata": {
    "collapsed": false,
    "jupyter": {
     "outputs_hidden": false
    },
    "ExecuteTime": {
     "end_time": "2023-05-12T12:00:37.148061592Z",
     "start_time": "2023-05-12T12:00:36.782368345Z"
    }
   },
   "source": [
    "df = pd.read_hdf(data, key='df')"
   ],
   "outputs": []
  },
  {
   "cell_type": "code",
   "execution_count": 5,
   "metadata": {
    "collapsed": false,
    "jupyter": {
     "outputs_hidden": false
    },
    "ExecuteTime": {
     "end_time": "2023-05-12T12:00:37.921703652Z",
     "start_time": "2023-05-12T12:00:37.904625691Z"
    }
   },
   "source": [
    "df[0:20]"
   ],
   "outputs": []
  },
  {
   "cell_type": "code",
   "execution_count": 13,
   "metadata": {
    "ExecuteTime": {
     "end_time": "2023-05-12T12:01:52.834672928Z",
     "start_time": "2023-05-12T12:01:52.831618444Z"
    }
   },
   "source": [
    "import numpy as np\n",
    "item = df.iloc[2]['NO2']"
   ],
   "outputs": []
  },
  {
   "cell_type": "code",
   "execution_count": 17,
   "source": [
    "np.isnan(item)"
   ],
   "metadata": {
    "collapsed": false,
    "ExecuteTime": {
     "end_time": "2023-05-12T12:03:13.105287001Z",
     "start_time": "2023-05-12T12:03:13.038125061Z"
    }
   },
   "outputs": []
  },
  {
   "cell_type": "code",
   "execution_count": 5,
   "metadata": {
    "ExecuteTime": {
     "end_time": "2023-05-05T14:39:34.411602070Z",
     "start_time": "2023-05-05T14:39:34.402189504Z"
    },
    "collapsed": false,
    "jupyter": {
     "outputs_hidden": false
    }
   },
   "source": [
    "mask = (df['datetime'] >= datetime(year=2014, month=5, day=1)) & (df['datetime'] <= datetime(year=2015, month=4, day=30))"
   ],
   "outputs": []
  },
  {
   "cell_type": "code",
   "execution_count": 6,
   "metadata": {
    "ExecuteTime": {
     "end_time": "2023-05-05T14:39:34.421098462Z",
     "start_time": "2023-05-05T14:39:34.409784141Z"
    }
   },
   "source": [
    "brits_df = df[mask]"
   ],
   "outputs": []
  },
  {
   "cell_type": "code",
   "execution_count": 7,
   "metadata": {
    "ExecuteTime": {
     "end_time": "2023-05-05T14:39:34.495112203Z",
     "start_time": "2023-05-05T14:39:34.421846349Z"
    }
   },
   "source": [
    "training_masks = [\n",
    "            (df['datetime'] >= datetime(year=2014, month=5, day=1)) & (\n",
    "                    df['datetime'] < datetime(year=2014, month=6, day=1)),\n",
    "            (df['datetime'] >= datetime(year=2014, month=7, day=1)) & (\n",
    "                    df['datetime'] < datetime(year=2014, month=9, day=1)),\n",
    "            (df['datetime'] >= datetime(year=2014, month=10, day=1)) & (\n",
    "                    df['datetime'] < datetime(year=2014, month=12, day=1)),\n",
    "            (df['datetime'] >= datetime(year=2015, month=1, day=1)) & (\n",
    "                    df['datetime'] < datetime(year=2015, month=3, day=1)),\n",
    "            (df['datetime'] >= datetime(year=2015, month=4, day=1)) & (\n",
    "                    df['datetime'] <= datetime(year=2015, month=4, day=30))\n",
    "        ]\n",
    "test_masks = [\n",
    "            (df['datetime'] >= datetime(year=2014, month=6, day=1)) & (\n",
    "                    df['datetime'] < datetime(year=2014, month=7, day=1)),\n",
    "            (df['datetime'] >= datetime(year=2014, month=9, day=1)) & (\n",
    "                    df['datetime'] < datetime(year=2014, month=10, day=1)),\n",
    "            (df['datetime'] >= datetime(year=2014, month=12, day=1)) & (\n",
    "                    df['datetime'] < datetime(year=2015, month=1, day=1)),\n",
    "            (df['datetime'] >= datetime(year=2015, month=3, day=1)) & (\n",
    "                    df['datetime'] < datetime(year=2015, month=4, day=1))\n",
    "        ]"
   ],
   "outputs": []
  },
  {
   "cell_type": "code",
   "execution_count": 8,
   "metadata": {
    "ExecuteTime": {
     "end_time": "2023-05-05T14:39:34.522452457Z",
     "start_time": "2023-05-05T14:39:34.466289756Z"
    }
   },
   "source": [
    "training_df = []\n",
    "for mask in training_masks:\n",
    "    training_df.append(df[mask])\n",
    "training_df = pd.concat(training_df)\n",
    "training_df.info()"
   ],
   "outputs": []
  },
  {
   "cell_type": "code",
   "execution_count": 9,
   "metadata": {
    "ExecuteTime": {
     "end_time": "2023-05-05T14:39:34.522833745Z",
     "start_time": "2023-05-05T14:39:34.510623945Z"
    }
   },
   "source": [
    "training_df.isna().sum()"
   ],
   "outputs": []
  },
  {
   "cell_type": "code",
   "execution_count": 10,
   "metadata": {
    "ExecuteTime": {
     "end_time": "2023-05-05T14:39:34.523100355Z",
     "start_time": "2023-05-05T14:39:34.511040642Z"
    }
   },
   "source": [
    "test_df = []\n",
    "for mask in test_masks:\n",
    "    test_df.append(df[mask])\n",
    "test_df = pd.concat(test_df)\n",
    "test_df.info()"
   ],
   "outputs": []
  },
  {
   "cell_type": "code",
   "execution_count": 11,
   "metadata": {
    "ExecuteTime": {
     "end_time": "2023-05-05T14:39:34.579162248Z",
     "start_time": "2023-05-05T14:39:34.511497756Z"
    }
   },
   "source": [
    "test_df.isna().sum()"
   ],
   "outputs": []
  },
  {
   "cell_type": "code",
   "execution_count": 12,
   "metadata": {
    "ExecuteTime": {
     "end_time": "2023-05-05T14:39:35.792127645Z",
     "start_time": "2023-05-05T14:39:34.567293276Z"
    }
   },
   "source": [
    "from torch_geometric.data import Data"
   ],
   "outputs": []
  },
  {
   "cell_type": "code",
   "execution_count": 13,
   "metadata": {
    "ExecuteTime": {
     "end_time": "2023-05-05T14:39:35.838238892Z",
     "start_time": "2023-05-05T14:39:35.795083989Z"
    }
   },
   "source": [
    "example_train = df[training_masks[0]]"
   ],
   "outputs": []
  },
  {
   "cell_type": "code",
   "execution_count": 14,
   "metadata": {
    "ExecuteTime": {
     "end_time": "2023-05-05T14:39:35.841531747Z",
     "start_time": "2023-05-05T14:39:35.838490927Z"
    }
   },
   "source": [
    "example_train.iloc[0]"
   ],
   "outputs": []
  },
  {
   "cell_type": "code",
   "execution_count": 15,
   "metadata": {
    "ExecuteTime": {
     "end_time": "2023-05-05T14:39:35.841742753Z",
     "start_time": "2023-05-05T14:39:35.838730861Z"
    }
   },
   "source": [
    "batch_size = 5"
   ],
   "outputs": []
  },
  {
   "cell_type": "code",
   "execution_count": 16,
   "metadata": {
    "ExecuteTime": {
     "end_time": "2023-05-05T14:39:35.841947815Z",
     "start_time": "2023-05-05T14:39:35.838906800Z"
    }
   },
   "source": [
    "example_train.iloc[0:5]"
   ],
   "outputs": []
  },
  {
   "cell_type": "code",
   "execution_count": 17,
   "metadata": {
    "ExecuteTime": {
     "end_time": "2023-05-05T14:39:35.842335631Z",
     "start_time": "2023-05-05T14:39:35.839134511Z"
    }
   },
   "source": [
    "x = []  # [num_nodes, num_node_features]\n",
    "edge_index = []  # Graph connectivity in COO format with shape [2, num_edges] and type torch.long\n",
    "y = []  # Target to train against\n"
   ],
   "outputs": []
  },
  {
   "cell_type": "code",
   "execution_count": 76,
   "metadata": {
    "ExecuteTime": {
     "end_time": "2023-05-05T18:48:56.122537639Z",
     "start_time": "2023-05-05T18:48:56.079518978Z"
    }
   },
   "source": [
    "import pydantic\n",
    "from datetime import datetime\n",
    "import torch\n",
    "from torch import FloatTensor, LongTensor, BoolTensor\n",
    "from pydantic import BaseModel\n",
    "from typing import Optional\n",
    "\n",
    "class TargetNode(BaseModel):\n",
    "    features: FloatTensor\n",
    "    type_index: LongTensor\n",
    "    time: FloatTensor\n",
    "    spatial_index: LongTensor\n",
    "\n",
    "    class Config:\n",
    "        arbitrary_types_allowed = True\n",
    "\n",
    "class ContinuousTimeGraphSample(BaseModel):\n",
    "    node_features: FloatTensor\n",
    "    edge_index: Optional[LongTensor]\n",
    "    attention_mask: Optional[BoolTensor]\n",
    "    time: FloatTensor\n",
    "    target: TargetNode\n",
    "    type_index: LongTensor\n",
    "    spatial_index: LongTensor\n",
    "    category_index: Optional[LongTensor]\n",
    "\n",
    "    class Config:\n",
    "        arbitrary_types_allowed = True\n"
   ],
   "outputs": []
  },
  {
   "cell_type": "code",
   "execution_count": 19,
   "metadata": {
    "ExecuteTime": {
     "end_time": "2023-05-05T14:39:35.926101063Z",
     "start_time": "2023-05-05T14:39:35.882051879Z"
    }
   },
   "source": [
    "pd.unique(df['wd'])"
   ],
   "outputs": []
  },
  {
   "cell_type": "code",
   "execution_count": 20,
   "metadata": {
    "ExecuteTime": {
     "end_time": "2023-05-05T14:39:35.926418350Z",
     "start_time": "2023-05-05T14:39:35.899264034Z"
    }
   },
   "source": [
    "pd.unique(df['station'])"
   ],
   "outputs": []
  },
  {
   "cell_type": "code",
   "execution_count": 67,
   "metadata": {
    "ExecuteTime": {
     "end_time": "2023-05-05T18:33:44.014738163Z",
     "start_time": "2023-05-05T18:33:44.008849892Z"
    },
    "collapsed": false,
    "jupyter": {
     "outputs_hidden": false
    }
   },
   "source": [
    "import random\n",
    "target_index = random.randint(12*11*2+1, 12*11*3-1)\n",
    "print(target_index)\n",
    "set = target_index//11\n",
    "print(set)\n",
    "sample = example_train.iloc[set]\n",
    "print(sample[features[target_index - set*11]])\n",
    "sample"
   ],
   "outputs": []
  },
  {
   "cell_type": "code",
   "execution_count": 77,
   "metadata": {
    "ExecuteTime": {
     "end_time": "2023-05-05T18:49:07.799388595Z",
     "start_time": "2023-05-05T18:49:07.752317661Z"
    }
   },
   "source": [
    "\n",
    "features = ['PM2.5', 'PM10', 'SO2', 'NO2', 'CO', 'O3', 'TEMP', 'PRES', 'DEWP', 'RAIN', 'WSPM']\n",
    "time = 'datetime'\n",
    "category = 'wd'\n",
    "spatial = 'station'\n",
    "unique_wd = ['NNW', 'E', 'NW', 'WNW', 'N', 'ENE', 'NNE', 'W', 'NE', 'SSW', 'ESE', 'SE', 'S', 'SSE', 'SW', 'WSW', 'None']\n",
    "unique_stations = ['Aotizhongxin', 'Changping', 'Dingling', 'Dongsi', 'Guanyuan', 'Gucheng', 'Huairou', 'Nongzhanguan', 'Shunyi', 'Tiantan', 'Wanliu', 'Wanshouxigong']\n",
    "node_features = []\n",
    "time_index = []\n",
    "type_index = []\n",
    "spatial_index = []\n",
    "category_index = []\n",
    "time_start = None\n",
    "target = {}\n",
    "\n",
    "for i in range(12*3):\n",
    "    sample = example_train.iloc[i]\n",
    "    if time_start is None:\n",
    "        time_start = example_train.iloc[12*3-1][time]\n",
    "    tau = (time_start - sample[time]).seconds\n",
    "    for j, key in enumerate(features):\n",
    "        if i*11 + j != target_index:\n",
    "            type_index.append(j)\n",
    "            node_features.append(sample[key])\n",
    "            spatial_index.append(unique_stations.index(sample[spatial]))\n",
    "            category_index.append(unique_wd.index(sample[category]))\n",
    "            time_index.append(tau)\n",
    "        else:\n",
    "            target['features'] = torch.tensor([sample[key]], dtype=torch.float)\n",
    "            target[\"type_index\"] = torch.tensor([j], dtype=torch.long)\n",
    "            target[\"spatial_index\"] = torch.tensor([unique_stations.index(sample[spatial])], dtype=torch.long)\n",
    "            target[\"category_index\"] = torch.tensor([unique_wd.index(sample[category])], dtype=torch.long)\n",
    "            target[\"time\"] = torch.tensor([tau], dtype=torch.float)\n",
    "print(target)"
   ],
   "outputs": []
  },
  {
   "cell_type": "code",
   "execution_count": 78,
   "metadata": {
    "ExecuteTime": {
     "end_time": "2023-05-05T18:49:09.996158406Z",
     "start_time": "2023-05-05T18:49:09.960664168Z"
    }
   },
   "source": [
    "graph = {\n",
    "    \"node_features\": torch.tensor(node_features, dtype=torch.float),\n",
    "    'time': torch.tensor(time_index, dtype=torch.float),\n",
    "    \"type_index\": torch.tensor(type_index, dtype=torch.long),\n",
    "    \"spatial_index\": torch.tensor(spatial_index, dtype=torch.long),\n",
    "    \"category_index\": torch.tensor(category_index, dtype=torch.long),\n",
    "    \"target\": TargetNode(**target)\n",
    "}\n",
    "graph['attention_mask'] = graph['time'].unsqueeze(-1).T < graph['time'].unsqueeze(-1)\n"
   ],
   "outputs": []
  },
  {
   "cell_type": "code",
   "execution_count": 80,
   "metadata": {
    "ExecuteTime": {
     "end_time": "2023-05-05T18:50:51.127506008Z",
     "start_time": "2023-05-05T18:50:51.108917318Z"
    }
   },
   "source": [
    "torch.save(ContinuousTimeGraphSample(**graph), \"../../AGG/test_data/sample.pt\")"
   ],
   "outputs": []
  },
  {
   "cell_type": "code",
   "execution_count": 64,
   "metadata": {
    "ExecuteTime": {
     "end_time": "2023-05-05T18:25:16.663604762Z",
     "start_time": "2023-05-05T18:25:16.651541180Z"
    },
    "collapsed": false,
    "jupyter": {
     "outputs_hidden": false
    }
   },
   "source": [
    "now = [0, 0, 0, 0, 0, 0, 0, 0, 0, 0, 0, 0, 0, 0, 0, 0, 0, 0, 0, 0, 0, 0, 0, 0, 0, 0, 0, 0, 0, 0, 0, 0, 0, 0, 0, 0, 0, 0, 0, 0, 0, 0, 0, 0, 0, 0, 0, 0, 0, 0, 0, 0, 0, 0, 0, 0, 0, 0, 0, 0, 0, 0, 0, 0, 0, 0, 0, 0, 0, 0, 0, 0, 0, 0, 0, 0, 0, 0, 0, 0, 0, 0, 0, 0, 0, 0, 0, 0, 0, 0, 0, 0, 0, 0, 0, 0, 0, 0, 0, 0, 0, 0, 0, 0, 0, 0, 0, 0, 0, 0, 0, 0, 0, 0, 0, 0, 0, 0, 0, 0, 0, 0, 0, 0, 0, 0, 0, 0, 0, 0, 0, 0]\n",
    "print(len(now))"
   ],
   "outputs": []
  },
  {
   "cell_type": "code",
   "execution_count": 51,
   "metadata": {
    "ExecuteTime": {
     "end_time": "2023-05-05T18:09:58.411031812Z",
     "start_time": "2023-05-05T18:09:58.408761638Z"
    },
    "collapsed": false,
    "jupyter": {
     "outputs_hidden": false
    }
   },
   "source": [
    "time = torch.tensor(time_index)"
   ],
   "outputs": []
  },
  {
   "cell_type": "code",
   "execution_count": 57,
   "metadata": {
    "ExecuteTime": {
     "end_time": "2023-05-05T18:17:26.886070177Z",
     "start_time": "2023-05-05T18:17:26.873389231Z"
    },
    "collapsed": false,
    "jupyter": {
     "outputs_hidden": false
    }
   },
   "source": [
    "time2 = time.unsqueeze(-1).T >= time.unsqueeze(-1)\n",
    "time3 = time.unsqueeze(-1).T < time.unsqueeze(-1)"
   ],
   "outputs": []
  },
  {
   "cell_type": "code",
   "execution_count": 58,
   "metadata": {
    "ExecuteTime": {
     "end_time": "2023-05-05T18:17:27.739247995Z",
     "start_time": "2023-05-05T18:17:27.733613149Z"
    },
    "collapsed": false,
    "jupyter": {
     "outputs_hidden": false
    }
   },
   "source": [
    "time3"
   ],
   "outputs": []
  },
  {
   "cell_type": "code",
   "execution_count": 53,
   "metadata": {
    "ExecuteTime": {
     "end_time": "2023-05-05T18:10:02.336182586Z",
     "start_time": "2023-05-05T18:10:02.328748373Z"
    },
    "collapsed": false,
    "jupyter": {
     "outputs_hidden": false
    }
   },
   "source": [
    "time2.float()"
   ],
   "outputs": []
  },
  {
   "cell_type": "code",
   "execution_count": 60,
   "metadata": {
    "ExecuteTime": {
     "end_time": "2023-05-05T18:17:55.053354412Z",
     "start_time": "2023-05-05T18:17:55.038780333Z"
    },
    "collapsed": false,
    "jupyter": {
     "outputs_hidden": false
    }
   },
   "source": [
    "data = [0, 0, 10, 10, 20, 20]\n",
    "data.reverse()\n",
    "time_test = torch.tensor(data)"
   ],
   "outputs": []
  },
  {
   "cell_type": "code",
   "execution_count": 61,
   "metadata": {
    "ExecuteTime": {
     "end_time": "2023-05-05T18:17:55.480029763Z",
     "start_time": "2023-05-05T18:17:55.473770775Z"
    },
    "collapsed": false,
    "jupyter": {
     "outputs_hidden": false
    }
   },
   "source": [
    "data"
   ],
   "outputs": []
  },
  {
   "cell_type": "code",
   "execution_count": 63,
   "metadata": {
    "ExecuteTime": {
     "end_time": "2023-05-05T18:18:10.400323576Z",
     "start_time": "2023-05-05T18:18:10.321759070Z"
    },
    "collapsed": false,
    "jupyter": {
     "outputs_hidden": false
    }
   },
   "source": [
    "(time_test.unsqueeze(-1).T < time_test.unsqueeze(-1))"
   ],
   "outputs": []
  },
  {
   "cell_type": "code",
   "execution_count": 38,
   "metadata": {
    "ExecuteTime": {
     "end_time": "2023-05-05T15:11:15.266611698Z",
     "start_time": "2023-05-05T15:11:15.222856344Z"
    },
    "collapsed": false,
    "jupyter": {
     "outputs_hidden": false
    }
   },
   "source": [],
   "outputs": []
  },
  {
   "cell_type": "code",
   "execution_count": null,
   "metadata": {
    "collapsed": false,
    "jupyter": {
     "outputs_hidden": false
    }
   },
   "source": [],
   "outputs": []
  }
 ],
 "metadata": {
  "kernelspec": {
   "display_name": "Python 3",
   "language": "python",
   "name": "python3"
  },
  "language_info": {
   "codemirror_mode": {
    "name": "ipython",
    "version": 3
   },
   "file_extension": ".py",
   "mimetype": "text/x-python",
   "name": "python",
   "nbconvert_exporter": "python",
   "pygments_lexer": "ipython3",
   "version": "3.9.13"
  }
 },
 "nbformat": 4,
 "nbformat_minor": 4
}
