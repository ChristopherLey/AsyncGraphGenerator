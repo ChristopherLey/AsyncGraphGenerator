{
 "cells": [
  {
   "cell_type": "code",
   "execution_count": 1,
   "metadata": {
    "pycharm": {
     "is_executing": true
    },
    "tags": [],
    "ExecuteTime": {
     "end_time": "2023-05-12T11:59:40.225738564Z",
     "start_time": "2023-05-12T11:59:40.113415212Z"
    }
   },
   "outputs": [],
   "source": [
    "from pathlib import Path\n",
    "\n",
    "import numpy as np\n",
    "import pandas as pd\n",
    "from datetime import datetime"
   ]
  },
  {
   "cell_type": "code",
   "execution_count": 3,
   "metadata": {
    "collapsed": false,
    "jupyter": {
     "outputs_hidden": false
    },
    "ExecuteTime": {
     "end_time": "2023-05-12T12:00:34.612358959Z",
     "start_time": "2023-05-12T12:00:34.556417060Z"
    }
   },
   "outputs": [
    {
     "data": {
      "text/plain": "True"
     },
     "execution_count": 3,
     "metadata": {},
     "output_type": "execute_result"
    }
   ],
   "source": [
    "data = Path('/data/Datastore/Beijing') / 'pm2_5_df.h5'\n",
    "data.exists()"
   ]
  },
  {
   "cell_type": "code",
   "execution_count": 4,
   "metadata": {
    "collapsed": false,
    "jupyter": {
     "outputs_hidden": false
    },
    "ExecuteTime": {
     "end_time": "2023-05-12T12:00:37.148061592Z",
     "start_time": "2023-05-12T12:00:36.782368345Z"
    }
   },
   "outputs": [],
   "source": [
    "df = pd.read_hdf(data, key='df')"
   ]
  },
  {
   "cell_type": "code",
   "execution_count": 5,
   "metadata": {
    "collapsed": false,
    "jupyter": {
     "outputs_hidden": false
    },
    "ExecuteTime": {
     "end_time": "2023-05-12T12:00:37.921703652Z",
     "start_time": "2023-05-12T12:00:37.904625691Z"
    }
   },
   "outputs": [
    {
     "data": {
      "text/plain": "     No            datetime  PM2.5  PM10   SO2   NO2     CO    O3  TEMP  \\\n0   1.0 2013-03-01 00:00:00    4.0   4.0   4.0   7.0  300.0  77.0  -0.7   \n1   1.0 2013-03-01 00:00:00    3.0   6.0  13.0   7.0  300.0  85.0  -2.3   \n2   1.0 2013-03-01 00:00:00    4.0   4.0   3.0   NaN  200.0  82.0  -2.3   \n3   1.0 2013-03-01 00:00:00    9.0   9.0   3.0  17.0  300.0  89.0  -0.5   \n4   1.0 2013-03-01 00:00:00    4.0   4.0  14.0  20.0  300.0  69.0  -0.7   \n5   1.0 2013-03-01 00:00:00    6.0  18.0   5.0   NaN  800.0  88.0   0.1   \n6   1.0 2013-03-01 00:00:00    7.0   7.0   3.0   2.0  100.0  91.0  -2.3   \n7   1.0 2013-03-01 00:00:00    5.0  14.0   4.0  12.0  200.0  85.0  -0.5   \n8   1.0 2013-03-01 00:00:00    3.0   6.0   3.0   8.0  300.0  44.0  -0.9   \n9   1.0 2013-03-01 00:00:00    6.0   6.0   4.0   8.0  300.0  81.0  -0.5   \n10  1.0 2013-03-01 00:00:00    8.0   8.0   6.0  28.0  400.0  52.0  -0.7   \n11  1.0 2013-03-01 00:00:00    9.0   9.0   6.0  17.0  200.0  62.0   0.3   \n12  2.0 2013-03-01 01:00:00    8.0   8.0   4.0   7.0  300.0  77.0  -1.1   \n13  2.0 2013-03-01 01:00:00    3.0   3.0   6.0   6.0  300.0  85.0  -2.5   \n14  2.0 2013-03-01 01:00:00    7.0   7.0   3.0   NaN  200.0  80.0  -2.5   \n15  2.0 2013-03-01 01:00:00    4.0   4.0   3.0  16.0  300.0  88.0  -0.7   \n16  2.0 2013-03-01 01:00:00    4.0   4.0  13.0  17.0  300.0  72.0  -1.1   \n17  2.0 2013-03-01 01:00:00    6.0  15.0   5.0   NaN  800.0  88.0  -0.3   \n18  2.0 2013-03-01 01:00:00    4.0   4.0   3.0   NaN  100.0  92.0  -2.7   \n19  2.0 2013-03-01 01:00:00    8.0  12.0   6.0  14.0  200.0  84.0  -0.7   \n\n      PRES  DEWP  RAIN   wd  WSPM        station  \n0   1023.0 -18.8   0.0  NNW   4.4   Aotizhongxin  \n1   1020.8 -19.7   0.0    E   0.5      Changping  \n2   1020.8 -19.7   0.0    E   0.5       Dingling  \n3   1024.5 -21.4   0.0  NNW   5.7         Dongsi  \n4   1023.0 -18.8   0.0  NNW   4.4       Guanyuan  \n5   1021.1 -18.6   0.0   NW   4.4        Gucheng  \n6   1020.3 -20.7   0.0  WNW   3.1        Huairou  \n7   1024.5 -21.4   0.0  NNW   5.7   Nongzhanguan  \n8   1025.8 -20.5   0.0   NW   9.3         Shunyi  \n9   1024.5 -21.4   0.0  NNW   5.7        Tiantan  \n10  1023.0 -18.8   0.0  NNW   4.4         Wanliu  \n11  1021.9 -19.0   0.0  WNW   2.0  Wanshouxigong  \n12  1023.2 -18.2   0.0    N   4.7   Aotizhongxin  \n13  1021.3 -19.0   0.0  ENE   0.7      Changping  \n14  1021.3 -19.0   0.0  ENE   0.7       Dingling  \n15  1025.1 -22.1   0.0   NW   3.9         Dongsi  \n16  1023.2 -18.2   0.0    N   4.7       Guanyuan  \n17  1021.5 -19.0   0.0   NW   4.0        Gucheng  \n18  1020.8 -20.5   0.0  NNW   1.5        Huairou  \n19  1025.1 -22.1   0.0   NW   3.9   Nongzhanguan  ",
      "text/html": "<div>\n<style scoped>\n    .dataframe tbody tr th:only-of-type {\n        vertical-align: middle;\n    }\n\n    .dataframe tbody tr th {\n        vertical-align: top;\n    }\n\n    .dataframe thead th {\n        text-align: right;\n    }\n</style>\n<table border=\"1\" class=\"dataframe\">\n  <thead>\n    <tr style=\"text-align: right;\">\n      <th></th>\n      <th>No</th>\n      <th>datetime</th>\n      <th>PM2.5</th>\n      <th>PM10</th>\n      <th>SO2</th>\n      <th>NO2</th>\n      <th>CO</th>\n      <th>O3</th>\n      <th>TEMP</th>\n      <th>PRES</th>\n      <th>DEWP</th>\n      <th>RAIN</th>\n      <th>wd</th>\n      <th>WSPM</th>\n      <th>station</th>\n    </tr>\n  </thead>\n  <tbody>\n    <tr>\n      <th>0</th>\n      <td>1.0</td>\n      <td>2013-03-01 00:00:00</td>\n      <td>4.0</td>\n      <td>4.0</td>\n      <td>4.0</td>\n      <td>7.0</td>\n      <td>300.0</td>\n      <td>77.0</td>\n      <td>-0.7</td>\n      <td>1023.0</td>\n      <td>-18.8</td>\n      <td>0.0</td>\n      <td>NNW</td>\n      <td>4.4</td>\n      <td>Aotizhongxin</td>\n    </tr>\n    <tr>\n      <th>1</th>\n      <td>1.0</td>\n      <td>2013-03-01 00:00:00</td>\n      <td>3.0</td>\n      <td>6.0</td>\n      <td>13.0</td>\n      <td>7.0</td>\n      <td>300.0</td>\n      <td>85.0</td>\n      <td>-2.3</td>\n      <td>1020.8</td>\n      <td>-19.7</td>\n      <td>0.0</td>\n      <td>E</td>\n      <td>0.5</td>\n      <td>Changping</td>\n    </tr>\n    <tr>\n      <th>2</th>\n      <td>1.0</td>\n      <td>2013-03-01 00:00:00</td>\n      <td>4.0</td>\n      <td>4.0</td>\n      <td>3.0</td>\n      <td>NaN</td>\n      <td>200.0</td>\n      <td>82.0</td>\n      <td>-2.3</td>\n      <td>1020.8</td>\n      <td>-19.7</td>\n      <td>0.0</td>\n      <td>E</td>\n      <td>0.5</td>\n      <td>Dingling</td>\n    </tr>\n    <tr>\n      <th>3</th>\n      <td>1.0</td>\n      <td>2013-03-01 00:00:00</td>\n      <td>9.0</td>\n      <td>9.0</td>\n      <td>3.0</td>\n      <td>17.0</td>\n      <td>300.0</td>\n      <td>89.0</td>\n      <td>-0.5</td>\n      <td>1024.5</td>\n      <td>-21.4</td>\n      <td>0.0</td>\n      <td>NNW</td>\n      <td>5.7</td>\n      <td>Dongsi</td>\n    </tr>\n    <tr>\n      <th>4</th>\n      <td>1.0</td>\n      <td>2013-03-01 00:00:00</td>\n      <td>4.0</td>\n      <td>4.0</td>\n      <td>14.0</td>\n      <td>20.0</td>\n      <td>300.0</td>\n      <td>69.0</td>\n      <td>-0.7</td>\n      <td>1023.0</td>\n      <td>-18.8</td>\n      <td>0.0</td>\n      <td>NNW</td>\n      <td>4.4</td>\n      <td>Guanyuan</td>\n    </tr>\n    <tr>\n      <th>5</th>\n      <td>1.0</td>\n      <td>2013-03-01 00:00:00</td>\n      <td>6.0</td>\n      <td>18.0</td>\n      <td>5.0</td>\n      <td>NaN</td>\n      <td>800.0</td>\n      <td>88.0</td>\n      <td>0.1</td>\n      <td>1021.1</td>\n      <td>-18.6</td>\n      <td>0.0</td>\n      <td>NW</td>\n      <td>4.4</td>\n      <td>Gucheng</td>\n    </tr>\n    <tr>\n      <th>6</th>\n      <td>1.0</td>\n      <td>2013-03-01 00:00:00</td>\n      <td>7.0</td>\n      <td>7.0</td>\n      <td>3.0</td>\n      <td>2.0</td>\n      <td>100.0</td>\n      <td>91.0</td>\n      <td>-2.3</td>\n      <td>1020.3</td>\n      <td>-20.7</td>\n      <td>0.0</td>\n      <td>WNW</td>\n      <td>3.1</td>\n      <td>Huairou</td>\n    </tr>\n    <tr>\n      <th>7</th>\n      <td>1.0</td>\n      <td>2013-03-01 00:00:00</td>\n      <td>5.0</td>\n      <td>14.0</td>\n      <td>4.0</td>\n      <td>12.0</td>\n      <td>200.0</td>\n      <td>85.0</td>\n      <td>-0.5</td>\n      <td>1024.5</td>\n      <td>-21.4</td>\n      <td>0.0</td>\n      <td>NNW</td>\n      <td>5.7</td>\n      <td>Nongzhanguan</td>\n    </tr>\n    <tr>\n      <th>8</th>\n      <td>1.0</td>\n      <td>2013-03-01 00:00:00</td>\n      <td>3.0</td>\n      <td>6.0</td>\n      <td>3.0</td>\n      <td>8.0</td>\n      <td>300.0</td>\n      <td>44.0</td>\n      <td>-0.9</td>\n      <td>1025.8</td>\n      <td>-20.5</td>\n      <td>0.0</td>\n      <td>NW</td>\n      <td>9.3</td>\n      <td>Shunyi</td>\n    </tr>\n    <tr>\n      <th>9</th>\n      <td>1.0</td>\n      <td>2013-03-01 00:00:00</td>\n      <td>6.0</td>\n      <td>6.0</td>\n      <td>4.0</td>\n      <td>8.0</td>\n      <td>300.0</td>\n      <td>81.0</td>\n      <td>-0.5</td>\n      <td>1024.5</td>\n      <td>-21.4</td>\n      <td>0.0</td>\n      <td>NNW</td>\n      <td>5.7</td>\n      <td>Tiantan</td>\n    </tr>\n    <tr>\n      <th>10</th>\n      <td>1.0</td>\n      <td>2013-03-01 00:00:00</td>\n      <td>8.0</td>\n      <td>8.0</td>\n      <td>6.0</td>\n      <td>28.0</td>\n      <td>400.0</td>\n      <td>52.0</td>\n      <td>-0.7</td>\n      <td>1023.0</td>\n      <td>-18.8</td>\n      <td>0.0</td>\n      <td>NNW</td>\n      <td>4.4</td>\n      <td>Wanliu</td>\n    </tr>\n    <tr>\n      <th>11</th>\n      <td>1.0</td>\n      <td>2013-03-01 00:00:00</td>\n      <td>9.0</td>\n      <td>9.0</td>\n      <td>6.0</td>\n      <td>17.0</td>\n      <td>200.0</td>\n      <td>62.0</td>\n      <td>0.3</td>\n      <td>1021.9</td>\n      <td>-19.0</td>\n      <td>0.0</td>\n      <td>WNW</td>\n      <td>2.0</td>\n      <td>Wanshouxigong</td>\n    </tr>\n    <tr>\n      <th>12</th>\n      <td>2.0</td>\n      <td>2013-03-01 01:00:00</td>\n      <td>8.0</td>\n      <td>8.0</td>\n      <td>4.0</td>\n      <td>7.0</td>\n      <td>300.0</td>\n      <td>77.0</td>\n      <td>-1.1</td>\n      <td>1023.2</td>\n      <td>-18.2</td>\n      <td>0.0</td>\n      <td>N</td>\n      <td>4.7</td>\n      <td>Aotizhongxin</td>\n    </tr>\n    <tr>\n      <th>13</th>\n      <td>2.0</td>\n      <td>2013-03-01 01:00:00</td>\n      <td>3.0</td>\n      <td>3.0</td>\n      <td>6.0</td>\n      <td>6.0</td>\n      <td>300.0</td>\n      <td>85.0</td>\n      <td>-2.5</td>\n      <td>1021.3</td>\n      <td>-19.0</td>\n      <td>0.0</td>\n      <td>ENE</td>\n      <td>0.7</td>\n      <td>Changping</td>\n    </tr>\n    <tr>\n      <th>14</th>\n      <td>2.0</td>\n      <td>2013-03-01 01:00:00</td>\n      <td>7.0</td>\n      <td>7.0</td>\n      <td>3.0</td>\n      <td>NaN</td>\n      <td>200.0</td>\n      <td>80.0</td>\n      <td>-2.5</td>\n      <td>1021.3</td>\n      <td>-19.0</td>\n      <td>0.0</td>\n      <td>ENE</td>\n      <td>0.7</td>\n      <td>Dingling</td>\n    </tr>\n    <tr>\n      <th>15</th>\n      <td>2.0</td>\n      <td>2013-03-01 01:00:00</td>\n      <td>4.0</td>\n      <td>4.0</td>\n      <td>3.0</td>\n      <td>16.0</td>\n      <td>300.0</td>\n      <td>88.0</td>\n      <td>-0.7</td>\n      <td>1025.1</td>\n      <td>-22.1</td>\n      <td>0.0</td>\n      <td>NW</td>\n      <td>3.9</td>\n      <td>Dongsi</td>\n    </tr>\n    <tr>\n      <th>16</th>\n      <td>2.0</td>\n      <td>2013-03-01 01:00:00</td>\n      <td>4.0</td>\n      <td>4.0</td>\n      <td>13.0</td>\n      <td>17.0</td>\n      <td>300.0</td>\n      <td>72.0</td>\n      <td>-1.1</td>\n      <td>1023.2</td>\n      <td>-18.2</td>\n      <td>0.0</td>\n      <td>N</td>\n      <td>4.7</td>\n      <td>Guanyuan</td>\n    </tr>\n    <tr>\n      <th>17</th>\n      <td>2.0</td>\n      <td>2013-03-01 01:00:00</td>\n      <td>6.0</td>\n      <td>15.0</td>\n      <td>5.0</td>\n      <td>NaN</td>\n      <td>800.0</td>\n      <td>88.0</td>\n      <td>-0.3</td>\n      <td>1021.5</td>\n      <td>-19.0</td>\n      <td>0.0</td>\n      <td>NW</td>\n      <td>4.0</td>\n      <td>Gucheng</td>\n    </tr>\n    <tr>\n      <th>18</th>\n      <td>2.0</td>\n      <td>2013-03-01 01:00:00</td>\n      <td>4.0</td>\n      <td>4.0</td>\n      <td>3.0</td>\n      <td>NaN</td>\n      <td>100.0</td>\n      <td>92.0</td>\n      <td>-2.7</td>\n      <td>1020.8</td>\n      <td>-20.5</td>\n      <td>0.0</td>\n      <td>NNW</td>\n      <td>1.5</td>\n      <td>Huairou</td>\n    </tr>\n    <tr>\n      <th>19</th>\n      <td>2.0</td>\n      <td>2013-03-01 01:00:00</td>\n      <td>8.0</td>\n      <td>12.0</td>\n      <td>6.0</td>\n      <td>14.0</td>\n      <td>200.0</td>\n      <td>84.0</td>\n      <td>-0.7</td>\n      <td>1025.1</td>\n      <td>-22.1</td>\n      <td>0.0</td>\n      <td>NW</td>\n      <td>3.9</td>\n      <td>Nongzhanguan</td>\n    </tr>\n  </tbody>\n</table>\n</div>"
     },
     "execution_count": 5,
     "metadata": {},
     "output_type": "execute_result"
    }
   ],
   "source": [
    "df[0:20]"
   ]
  },
  {
   "cell_type": "code",
   "execution_count": 13,
   "metadata": {
    "ExecuteTime": {
     "end_time": "2023-05-12T12:01:52.834672928Z",
     "start_time": "2023-05-12T12:01:52.831618444Z"
    }
   },
   "outputs": [],
   "source": [
    "import numpy as np\n",
    "item = df.iloc[2]['NO2']"
   ]
  },
  {
   "cell_type": "code",
   "execution_count": 17,
   "outputs": [
    {
     "data": {
      "text/plain": "True"
     },
     "execution_count": 17,
     "metadata": {},
     "output_type": "execute_result"
    }
   ],
   "source": [
    "np.isnan(item)"
   ],
   "metadata": {
    "collapsed": false,
    "ExecuteTime": {
     "end_time": "2023-05-12T12:03:13.105287001Z",
     "start_time": "2023-05-12T12:03:13.038125061Z"
    }
   }
  },
  {
   "cell_type": "code",
   "execution_count": 5,
   "metadata": {
    "ExecuteTime": {
     "end_time": "2023-05-05T14:39:34.411602070Z",
     "start_time": "2023-05-05T14:39:34.402189504Z"
    },
    "collapsed": false,
    "jupyter": {
     "outputs_hidden": false
    }
   },
   "outputs": [],
   "source": [
    "mask = (df['datetime'] >= datetime(year=2014, month=5, day=1)) & (df['datetime'] <= datetime(year=2015, month=4, day=30))"
   ]
  },
  {
   "cell_type": "code",
   "execution_count": 6,
   "metadata": {
    "ExecuteTime": {
     "end_time": "2023-05-05T14:39:34.421098462Z",
     "start_time": "2023-05-05T14:39:34.409784141Z"
    }
   },
   "outputs": [],
   "source": [
    "brits_df = df[mask]"
   ]
  },
  {
   "cell_type": "code",
   "execution_count": 7,
   "metadata": {
    "ExecuteTime": {
     "end_time": "2023-05-05T14:39:34.495112203Z",
     "start_time": "2023-05-05T14:39:34.421846349Z"
    }
   },
   "outputs": [],
   "source": [
    "training_masks = [\n",
    "            (df['datetime'] >= datetime(year=2014, month=5, day=1)) & (\n",
    "                    df['datetime'] < datetime(year=2014, month=6, day=1)),\n",
    "            (df['datetime'] >= datetime(year=2014, month=7, day=1)) & (\n",
    "                    df['datetime'] < datetime(year=2014, month=9, day=1)),\n",
    "            (df['datetime'] >= datetime(year=2014, month=10, day=1)) & (\n",
    "                    df['datetime'] < datetime(year=2014, month=12, day=1)),\n",
    "            (df['datetime'] >= datetime(year=2015, month=1, day=1)) & (\n",
    "                    df['datetime'] < datetime(year=2015, month=3, day=1)),\n",
    "            (df['datetime'] >= datetime(year=2015, month=4, day=1)) & (\n",
    "                    df['datetime'] <= datetime(year=2015, month=4, day=30))\n",
    "        ]\n",
    "test_masks = [\n",
    "            (df['datetime'] >= datetime(year=2014, month=6, day=1)) & (\n",
    "                    df['datetime'] < datetime(year=2014, month=7, day=1)),\n",
    "            (df['datetime'] >= datetime(year=2014, month=9, day=1)) & (\n",
    "                    df['datetime'] < datetime(year=2014, month=10, day=1)),\n",
    "            (df['datetime'] >= datetime(year=2014, month=12, day=1)) & (\n",
    "                    df['datetime'] < datetime(year=2015, month=1, day=1)),\n",
    "            (df['datetime'] >= datetime(year=2015, month=3, day=1)) & (\n",
    "                    df['datetime'] < datetime(year=2015, month=4, day=1))\n",
    "        ]"
   ]
  },
  {
   "cell_type": "code",
   "execution_count": 8,
   "metadata": {
    "ExecuteTime": {
     "end_time": "2023-05-05T14:39:34.522452457Z",
     "start_time": "2023-05-05T14:39:34.466289756Z"
    }
   },
   "outputs": [
    {
     "name": "stdout",
     "output_type": "stream",
     "text": [
      "<class 'pandas.core.frame.DataFrame'>\n",
      "Int64Index: 69708 entries, 122688 to 227531\n",
      "Data columns (total 15 columns):\n",
      " #   Column    Non-Null Count  Dtype         \n",
      "---  ------    --------------  -----         \n",
      " 0   No        69708 non-null  float64       \n",
      " 1   datetime  69708 non-null  datetime64[ns]\n",
      " 2   PM2.5     68313 non-null  float64       \n",
      " 3   PM10      68727 non-null  float64       \n",
      " 4   SO2       67967 non-null  float64       \n",
      " 5   NO2       67386 non-null  float64       \n",
      " 6   CO        68292 non-null  float64       \n",
      " 7   O3        68418 non-null  float64       \n",
      " 8   TEMP      69541 non-null  float64       \n",
      " 9   PRES      69540 non-null  float64       \n",
      " 10  DEWP      69539 non-null  float64       \n",
      " 11  RAIN      69539 non-null  float64       \n",
      " 12  wd        69708 non-null  object        \n",
      " 13  WSPM      69539 non-null  float64       \n",
      " 14  station   69708 non-null  object        \n",
      "dtypes: datetime64[ns](1), float64(12), object(2)\n",
      "memory usage: 8.5+ MB\n"
     ]
    }
   ],
   "source": [
    "training_df = []\n",
    "for mask in training_masks:\n",
    "    training_df.append(df[mask])\n",
    "training_df = pd.concat(training_df)\n",
    "training_df.info()"
   ]
  },
  {
   "cell_type": "code",
   "execution_count": 9,
   "metadata": {
    "ExecuteTime": {
     "end_time": "2023-05-05T14:39:34.522833745Z",
     "start_time": "2023-05-05T14:39:34.510623945Z"
    }
   },
   "outputs": [
    {
     "data": {
      "text/plain": [
       "No             0\n",
       "datetime       0\n",
       "PM2.5       1395\n",
       "PM10         981\n",
       "SO2         1741\n",
       "NO2         2322\n",
       "CO          1416\n",
       "O3          1290\n",
       "TEMP         167\n",
       "PRES         168\n",
       "DEWP         169\n",
       "RAIN         169\n",
       "wd             0\n",
       "WSPM         169\n",
       "station        0\n",
       "dtype: int64"
      ]
     },
     "execution_count": 9,
     "metadata": {},
     "output_type": "execute_result"
    }
   ],
   "source": [
    "training_df.isna().sum()"
   ]
  },
  {
   "cell_type": "code",
   "execution_count": 10,
   "metadata": {
    "ExecuteTime": {
     "end_time": "2023-05-05T14:39:34.523100355Z",
     "start_time": "2023-05-05T14:39:34.511040642Z"
    }
   },
   "outputs": [
    {
     "name": "stdout",
     "output_type": "stream",
     "text": [
      "<class 'pandas.core.frame.DataFrame'>\n",
      "Int64Index: 35136 entries, 131616 to 219167\n",
      "Data columns (total 15 columns):\n",
      " #   Column    Non-Null Count  Dtype         \n",
      "---  ------    --------------  -----         \n",
      " 0   No        35136 non-null  float64       \n",
      " 1   datetime  35136 non-null  datetime64[ns]\n",
      " 2   PM2.5     33930 non-null  float64       \n",
      " 3   PM10      34106 non-null  float64       \n",
      " 4   SO2       33800 non-null  float64       \n",
      " 5   NO2       33649 non-null  float64       \n",
      " 6   CO        33880 non-null  float64       \n",
      " 7   O3        33643 non-null  float64       \n",
      " 8   TEMP      35132 non-null  float64       \n",
      " 9   PRES      35132 non-null  float64       \n",
      " 10  DEWP      35132 non-null  float64       \n",
      " 11  RAIN      35130 non-null  float64       \n",
      " 12  wd        35136 non-null  object        \n",
      " 13  WSPM      35133 non-null  float64       \n",
      " 14  station   35136 non-null  object        \n",
      "dtypes: datetime64[ns](1), float64(12), object(2)\n",
      "memory usage: 4.3+ MB\n"
     ]
    }
   ],
   "source": [
    "test_df = []\n",
    "for mask in test_masks:\n",
    "    test_df.append(df[mask])\n",
    "test_df = pd.concat(test_df)\n",
    "test_df.info()"
   ]
  },
  {
   "cell_type": "code",
   "execution_count": 11,
   "metadata": {
    "ExecuteTime": {
     "end_time": "2023-05-05T14:39:34.579162248Z",
     "start_time": "2023-05-05T14:39:34.511497756Z"
    }
   },
   "outputs": [
    {
     "data": {
      "text/plain": [
       "No             0\n",
       "datetime       0\n",
       "PM2.5       1206\n",
       "PM10        1030\n",
       "SO2         1336\n",
       "NO2         1487\n",
       "CO          1256\n",
       "O3          1493\n",
       "TEMP           4\n",
       "PRES           4\n",
       "DEWP           4\n",
       "RAIN           6\n",
       "wd             0\n",
       "WSPM           3\n",
       "station        0\n",
       "dtype: int64"
      ]
     },
     "execution_count": 11,
     "metadata": {},
     "output_type": "execute_result"
    }
   ],
   "source": [
    "test_df.isna().sum()"
   ]
  },
  {
   "cell_type": "code",
   "execution_count": 12,
   "metadata": {
    "ExecuteTime": {
     "end_time": "2023-05-05T14:39:35.792127645Z",
     "start_time": "2023-05-05T14:39:34.567293276Z"
    }
   },
   "outputs": [],
   "source": [
    "from torch_geometric.data import Data"
   ]
  },
  {
   "cell_type": "code",
   "execution_count": 13,
   "metadata": {
    "ExecuteTime": {
     "end_time": "2023-05-05T14:39:35.838238892Z",
     "start_time": "2023-05-05T14:39:35.795083989Z"
    }
   },
   "outputs": [],
   "source": [
    "example_train = df[training_masks[0]]"
   ]
  },
  {
   "cell_type": "code",
   "execution_count": 14,
   "metadata": {
    "ExecuteTime": {
     "end_time": "2023-05-05T14:39:35.841531747Z",
     "start_time": "2023-05-05T14:39:35.838490927Z"
    }
   },
   "outputs": [
    {
     "data": {
      "text/plain": [
       "No                      10225.0\n",
       "datetime    2014-05-01 00:00:00\n",
       "PM2.5                     101.0\n",
       "PM10                      160.0\n",
       "SO2                        15.0\n",
       "NO2                        78.0\n",
       "CO                        600.0\n",
       "O3                         85.0\n",
       "TEMP                       17.7\n",
       "PRES                     1002.3\n",
       "DEWP                       13.2\n",
       "RAIN                        0.0\n",
       "wd                           SW\n",
       "WSPM                        1.5\n",
       "station            Aotizhongxin\n",
       "Name: 122688, dtype: object"
      ]
     },
     "execution_count": 14,
     "metadata": {},
     "output_type": "execute_result"
    }
   ],
   "source": [
    "example_train.iloc[0]"
   ]
  },
  {
   "cell_type": "code",
   "execution_count": 15,
   "metadata": {
    "ExecuteTime": {
     "end_time": "2023-05-05T14:39:35.841742753Z",
     "start_time": "2023-05-05T14:39:35.838730861Z"
    }
   },
   "outputs": [],
   "source": [
    "batch_size = 5"
   ]
  },
  {
   "cell_type": "code",
   "execution_count": 16,
   "metadata": {
    "ExecuteTime": {
     "end_time": "2023-05-05T14:39:35.841947815Z",
     "start_time": "2023-05-05T14:39:35.838906800Z"
    }
   },
   "outputs": [
    {
     "data": {
      "text/html": [
       "<div>\n",
       "<style scoped>\n",
       "    .dataframe tbody tr th:only-of-type {\n",
       "        vertical-align: middle;\n",
       "    }\n",
       "\n",
       "    .dataframe tbody tr th {\n",
       "        vertical-align: top;\n",
       "    }\n",
       "\n",
       "    .dataframe thead th {\n",
       "        text-align: right;\n",
       "    }\n",
       "</style>\n",
       "<table border=\"1\" class=\"dataframe\">\n",
       "  <thead>\n",
       "    <tr style=\"text-align: right;\">\n",
       "      <th></th>\n",
       "      <th>No</th>\n",
       "      <th>datetime</th>\n",
       "      <th>PM2.5</th>\n",
       "      <th>PM10</th>\n",
       "      <th>SO2</th>\n",
       "      <th>NO2</th>\n",
       "      <th>CO</th>\n",
       "      <th>O3</th>\n",
       "      <th>TEMP</th>\n",
       "      <th>PRES</th>\n",
       "      <th>DEWP</th>\n",
       "      <th>RAIN</th>\n",
       "      <th>wd</th>\n",
       "      <th>WSPM</th>\n",
       "      <th>station</th>\n",
       "    </tr>\n",
       "  </thead>\n",
       "  <tbody>\n",
       "    <tr>\n",
       "      <th>122688</th>\n",
       "      <td>10225.0</td>\n",
       "      <td>2014-05-01</td>\n",
       "      <td>101.0</td>\n",
       "      <td>160.0</td>\n",
       "      <td>15.0</td>\n",
       "      <td>78.0</td>\n",
       "      <td>600.0</td>\n",
       "      <td>85.0</td>\n",
       "      <td>17.7</td>\n",
       "      <td>1002.3</td>\n",
       "      <td>13.2</td>\n",
       "      <td>0.0</td>\n",
       "      <td>SW</td>\n",
       "      <td>1.5</td>\n",
       "      <td>Aotizhongxin</td>\n",
       "    </tr>\n",
       "    <tr>\n",
       "      <th>122689</th>\n",
       "      <td>10225.0</td>\n",
       "      <td>2014-05-01</td>\n",
       "      <td>90.0</td>\n",
       "      <td>136.0</td>\n",
       "      <td>12.0</td>\n",
       "      <td>44.0</td>\n",
       "      <td>900.0</td>\n",
       "      <td>120.0</td>\n",
       "      <td>18.0</td>\n",
       "      <td>998.9</td>\n",
       "      <td>9.9</td>\n",
       "      <td>0.0</td>\n",
       "      <td>N</td>\n",
       "      <td>0.2</td>\n",
       "      <td>Changping</td>\n",
       "    </tr>\n",
       "    <tr>\n",
       "      <th>122690</th>\n",
       "      <td>10225.0</td>\n",
       "      <td>2014-05-01</td>\n",
       "      <td>85.0</td>\n",
       "      <td>86.0</td>\n",
       "      <td>8.0</td>\n",
       "      <td>16.0</td>\n",
       "      <td>700.0</td>\n",
       "      <td>135.0</td>\n",
       "      <td>18.0</td>\n",
       "      <td>998.9</td>\n",
       "      <td>9.9</td>\n",
       "      <td>0.0</td>\n",
       "      <td>N</td>\n",
       "      <td>0.2</td>\n",
       "      <td>Dingling</td>\n",
       "    </tr>\n",
       "    <tr>\n",
       "      <th>122691</th>\n",
       "      <td>10225.0</td>\n",
       "      <td>2014-05-01</td>\n",
       "      <td>90.0</td>\n",
       "      <td>181.0</td>\n",
       "      <td>20.0</td>\n",
       "      <td>41.0</td>\n",
       "      <td>900.0</td>\n",
       "      <td>96.0</td>\n",
       "      <td>20.5</td>\n",
       "      <td>1003.9</td>\n",
       "      <td>11.9</td>\n",
       "      <td>0.0</td>\n",
       "      <td>WSW</td>\n",
       "      <td>1.9</td>\n",
       "      <td>Dongsi</td>\n",
       "    </tr>\n",
       "    <tr>\n",
       "      <th>122692</th>\n",
       "      <td>10225.0</td>\n",
       "      <td>2014-05-01</td>\n",
       "      <td>103.0</td>\n",
       "      <td>164.0</td>\n",
       "      <td>15.0</td>\n",
       "      <td>46.0</td>\n",
       "      <td>700.0</td>\n",
       "      <td>123.0</td>\n",
       "      <td>17.7</td>\n",
       "      <td>1002.3</td>\n",
       "      <td>13.2</td>\n",
       "      <td>0.0</td>\n",
       "      <td>SW</td>\n",
       "      <td>1.5</td>\n",
       "      <td>Guanyuan</td>\n",
       "    </tr>\n",
       "  </tbody>\n",
       "</table>\n",
       "</div>"
      ],
      "text/plain": [
       "             No   datetime  PM2.5   PM10   SO2   NO2     CO     O3  TEMP  \\\n",
       "122688  10225.0 2014-05-01  101.0  160.0  15.0  78.0  600.0   85.0  17.7   \n",
       "122689  10225.0 2014-05-01   90.0  136.0  12.0  44.0  900.0  120.0  18.0   \n",
       "122690  10225.0 2014-05-01   85.0   86.0   8.0  16.0  700.0  135.0  18.0   \n",
       "122691  10225.0 2014-05-01   90.0  181.0  20.0  41.0  900.0   96.0  20.5   \n",
       "122692  10225.0 2014-05-01  103.0  164.0  15.0  46.0  700.0  123.0  17.7   \n",
       "\n",
       "          PRES  DEWP  RAIN   wd  WSPM       station  \n",
       "122688  1002.3  13.2   0.0   SW   1.5  Aotizhongxin  \n",
       "122689   998.9   9.9   0.0    N   0.2     Changping  \n",
       "122690   998.9   9.9   0.0    N   0.2      Dingling  \n",
       "122691  1003.9  11.9   0.0  WSW   1.9        Dongsi  \n",
       "122692  1002.3  13.2   0.0   SW   1.5      Guanyuan  "
      ]
     },
     "execution_count": 16,
     "metadata": {},
     "output_type": "execute_result"
    }
   ],
   "source": [
    "example_train.iloc[0:5]"
   ]
  },
  {
   "cell_type": "code",
   "execution_count": 17,
   "metadata": {
    "ExecuteTime": {
     "end_time": "2023-05-05T14:39:35.842335631Z",
     "start_time": "2023-05-05T14:39:35.839134511Z"
    }
   },
   "outputs": [],
   "source": [
    "x = []  # [num_nodes, num_node_features]\n",
    "edge_index = []  # Graph connectivity in COO format with shape [2, num_edges] and type torch.long\n",
    "y = []  # Target to train against\n"
   ]
  },
  {
   "cell_type": "code",
   "execution_count": 76,
   "metadata": {
    "ExecuteTime": {
     "end_time": "2023-05-05T18:48:56.122537639Z",
     "start_time": "2023-05-05T18:48:56.079518978Z"
    }
   },
   "outputs": [],
   "source": [
    "import pydantic\n",
    "from datetime import datetime\n",
    "import torch\n",
    "from torch import FloatTensor, LongTensor, BoolTensor\n",
    "from pydantic import BaseModel\n",
    "from typing import Optional\n",
    "\n",
    "class TargetNode(BaseModel):\n",
    "    features: FloatTensor\n",
    "    type_index: LongTensor\n",
    "    time: FloatTensor\n",
    "    spatial_index: LongTensor\n",
    "\n",
    "    class Config:\n",
    "        arbitrary_types_allowed = True\n",
    "\n",
    "class ContinuousTimeGraphSample(BaseModel):\n",
    "    node_features: FloatTensor\n",
    "    edge_index: Optional[LongTensor]\n",
    "    attention_mask: Optional[BoolTensor]\n",
    "    time: FloatTensor\n",
    "    target: TargetNode\n",
    "    type_index: LongTensor\n",
    "    spatial_index: LongTensor\n",
    "    category_index: Optional[LongTensor]\n",
    "\n",
    "    class Config:\n",
    "        arbitrary_types_allowed = True\n"
   ]
  },
  {
   "cell_type": "code",
   "execution_count": 19,
   "metadata": {
    "ExecuteTime": {
     "end_time": "2023-05-05T14:39:35.926101063Z",
     "start_time": "2023-05-05T14:39:35.882051879Z"
    }
   },
   "outputs": [
    {
     "data": {
      "text/plain": [
       "array(['NNW', 'E', 'NW', 'WNW', 'N', 'ENE', 'NNE', 'W', 'NE', 'SSW',\n",
       "       'ESE', 'SE', 'S', 'SSE', 'SW', 'WSW', 'None'], dtype=object)"
      ]
     },
     "execution_count": 19,
     "metadata": {},
     "output_type": "execute_result"
    }
   ],
   "source": [
    "pd.unique(df['wd'])"
   ]
  },
  {
   "cell_type": "code",
   "execution_count": 20,
   "metadata": {
    "ExecuteTime": {
     "end_time": "2023-05-05T14:39:35.926418350Z",
     "start_time": "2023-05-05T14:39:35.899264034Z"
    }
   },
   "outputs": [
    {
     "data": {
      "text/plain": [
       "array(['Aotizhongxin', 'Changping', 'Dingling', 'Dongsi', 'Guanyuan',\n",
       "       'Gucheng', 'Huairou', 'Nongzhanguan', 'Shunyi', 'Tiantan',\n",
       "       'Wanliu', 'Wanshouxigong'], dtype=object)"
      ]
     },
     "execution_count": 20,
     "metadata": {},
     "output_type": "execute_result"
    }
   ],
   "source": [
    "pd.unique(df['station'])"
   ]
  },
  {
   "cell_type": "code",
   "execution_count": 67,
   "metadata": {
    "ExecuteTime": {
     "end_time": "2023-05-05T18:33:44.014738163Z",
     "start_time": "2023-05-05T18:33:44.008849892Z"
    },
    "collapsed": false,
    "jupyter": {
     "outputs_hidden": false
    }
   },
   "outputs": [
    {
     "name": "stdout",
     "output_type": "stream",
     "text": [
      "338\n",
      "30\n",
      "11.7\n"
     ]
    },
    {
     "data": {
      "text/plain": [
       "No                      10227.0\n",
       "datetime    2014-05-01 02:00:00\n",
       "PM2.5                     102.0\n",
       "PM10                      128.0\n",
       "SO2                         NaN\n",
       "NO2                        51.0\n",
       "CO                          NaN\n",
       "O3                         55.0\n",
       "TEMP                       16.1\n",
       "PRES                      999.4\n",
       "DEWP                       11.7\n",
       "RAIN                        0.0\n",
       "wd                          NNW\n",
       "WSPM                        1.0\n",
       "station                 Huairou\n",
       "Name: 122718, dtype: object"
      ]
     },
     "execution_count": 67,
     "metadata": {},
     "output_type": "execute_result"
    }
   ],
   "source": [
    "import random\n",
    "target_index = random.randint(12*11*2+1, 12*11*3-1)\n",
    "print(target_index)\n",
    "set = target_index//11\n",
    "print(set)\n",
    "sample = example_train.iloc[set]\n",
    "print(sample[features[target_index - set*11]])\n",
    "sample"
   ]
  },
  {
   "cell_type": "code",
   "execution_count": 77,
   "metadata": {
    "ExecuteTime": {
     "end_time": "2023-05-05T18:49:07.799388595Z",
     "start_time": "2023-05-05T18:49:07.752317661Z"
    }
   },
   "outputs": [
    {
     "name": "stdout",
     "output_type": "stream",
     "text": [
      "{'features': tensor([11.7000]), 'type_index': tensor([8]), 'spatial_index': tensor([6]), 'category_index': tensor([0]), 'time': tensor([0.])}\n"
     ]
    }
   ],
   "source": [
    "\n",
    "features = ['PM2.5', 'PM10', 'SO2', 'NO2', 'CO', 'O3', 'TEMP', 'PRES', 'DEWP', 'RAIN', 'WSPM']\n",
    "time = 'datetime'\n",
    "category = 'wd'\n",
    "spatial = 'station'\n",
    "unique_wd = ['NNW', 'E', 'NW', 'WNW', 'N', 'ENE', 'NNE', 'W', 'NE', 'SSW', 'ESE', 'SE', 'S', 'SSE', 'SW', 'WSW', 'None']\n",
    "unique_stations = ['Aotizhongxin', 'Changping', 'Dingling', 'Dongsi', 'Guanyuan', 'Gucheng', 'Huairou', 'Nongzhanguan', 'Shunyi', 'Tiantan', 'Wanliu', 'Wanshouxigong']\n",
    "node_features = []\n",
    "time_index = []\n",
    "type_index = []\n",
    "spatial_index = []\n",
    "category_index = []\n",
    "time_start = None\n",
    "target = {}\n",
    "\n",
    "for i in range(12*3):\n",
    "    sample = example_train.iloc[i]\n",
    "    if time_start is None:\n",
    "        time_start = example_train.iloc[12*3-1][time]\n",
    "    tau = (time_start - sample[time]).seconds\n",
    "    for j, key in enumerate(features):\n",
    "        if i*11 + j != target_index:\n",
    "            type_index.append(j)\n",
    "            node_features.append(sample[key])\n",
    "            spatial_index.append(unique_stations.index(sample[spatial]))\n",
    "            category_index.append(unique_wd.index(sample[category]))\n",
    "            time_index.append(tau)\n",
    "        else:\n",
    "            target['features'] = torch.tensor([sample[key]], dtype=torch.float)\n",
    "            target[\"type_index\"] = torch.tensor([j], dtype=torch.long)\n",
    "            target[\"spatial_index\"] = torch.tensor([unique_stations.index(sample[spatial])], dtype=torch.long)\n",
    "            target[\"category_index\"] = torch.tensor([unique_wd.index(sample[category])], dtype=torch.long)\n",
    "            target[\"time\"] = torch.tensor([tau], dtype=torch.float)\n",
    "print(target)"
   ]
  },
  {
   "cell_type": "code",
   "execution_count": 78,
   "metadata": {
    "ExecuteTime": {
     "end_time": "2023-05-05T18:49:09.996158406Z",
     "start_time": "2023-05-05T18:49:09.960664168Z"
    }
   },
   "outputs": [],
   "source": [
    "graph = {\n",
    "    \"node_features\": torch.tensor(node_features, dtype=torch.float),\n",
    "    'time': torch.tensor(time_index, dtype=torch.float),\n",
    "    \"type_index\": torch.tensor(type_index, dtype=torch.long),\n",
    "    \"spatial_index\": torch.tensor(spatial_index, dtype=torch.long),\n",
    "    \"category_index\": torch.tensor(category_index, dtype=torch.long),\n",
    "    \"target\": TargetNode(**target)\n",
    "}\n",
    "graph['attention_mask'] = graph['time'].unsqueeze(-1).T < graph['time'].unsqueeze(-1)\n"
   ]
  },
  {
   "cell_type": "code",
   "execution_count": 80,
   "metadata": {
    "ExecuteTime": {
     "end_time": "2023-05-05T18:50:51.127506008Z",
     "start_time": "2023-05-05T18:50:51.108917318Z"
    }
   },
   "outputs": [],
   "source": [
    "torch.save(ContinuousTimeGraphSample(**graph), \"../../AGG/test_data/sample.pt\")"
   ]
  },
  {
   "cell_type": "code",
   "execution_count": 64,
   "metadata": {
    "ExecuteTime": {
     "end_time": "2023-05-05T18:25:16.663604762Z",
     "start_time": "2023-05-05T18:25:16.651541180Z"
    },
    "collapsed": false,
    "jupyter": {
     "outputs_hidden": false
    }
   },
   "outputs": [
    {
     "name": "stdout",
     "output_type": "stream",
     "text": [
      "132\n"
     ]
    }
   ],
   "source": [
    "now = [0, 0, 0, 0, 0, 0, 0, 0, 0, 0, 0, 0, 0, 0, 0, 0, 0, 0, 0, 0, 0, 0, 0, 0, 0, 0, 0, 0, 0, 0, 0, 0, 0, 0, 0, 0, 0, 0, 0, 0, 0, 0, 0, 0, 0, 0, 0, 0, 0, 0, 0, 0, 0, 0, 0, 0, 0, 0, 0, 0, 0, 0, 0, 0, 0, 0, 0, 0, 0, 0, 0, 0, 0, 0, 0, 0, 0, 0, 0, 0, 0, 0, 0, 0, 0, 0, 0, 0, 0, 0, 0, 0, 0, 0, 0, 0, 0, 0, 0, 0, 0, 0, 0, 0, 0, 0, 0, 0, 0, 0, 0, 0, 0, 0, 0, 0, 0, 0, 0, 0, 0, 0, 0, 0, 0, 0, 0, 0, 0, 0, 0, 0]\n",
    "print(len(now))"
   ]
  },
  {
   "cell_type": "code",
   "execution_count": 51,
   "metadata": {
    "ExecuteTime": {
     "end_time": "2023-05-05T18:09:58.411031812Z",
     "start_time": "2023-05-05T18:09:58.408761638Z"
    },
    "collapsed": false,
    "jupyter": {
     "outputs_hidden": false
    }
   },
   "outputs": [],
   "source": [
    "time = torch.tensor(time_index)"
   ]
  },
  {
   "cell_type": "code",
   "execution_count": 57,
   "metadata": {
    "ExecuteTime": {
     "end_time": "2023-05-05T18:17:26.886070177Z",
     "start_time": "2023-05-05T18:17:26.873389231Z"
    },
    "collapsed": false,
    "jupyter": {
     "outputs_hidden": false
    }
   },
   "outputs": [],
   "source": [
    "time2 = time.unsqueeze(-1).T >= time.unsqueeze(-1)\n",
    "time3 = time.unsqueeze(-1).T < time.unsqueeze(-1)"
   ]
  },
  {
   "cell_type": "code",
   "execution_count": 58,
   "metadata": {
    "ExecuteTime": {
     "end_time": "2023-05-05T18:17:27.739247995Z",
     "start_time": "2023-05-05T18:17:27.733613149Z"
    },
    "collapsed": false,
    "jupyter": {
     "outputs_hidden": false
    }
   },
   "outputs": [
    {
     "data": {
      "text/plain": [
       "tensor(True)"
      ]
     },
     "execution_count": 58,
     "metadata": {},
     "output_type": "execute_result"
    }
   ],
   "source": [
    "time3"
   ]
  },
  {
   "cell_type": "code",
   "execution_count": 53,
   "metadata": {
    "ExecuteTime": {
     "end_time": "2023-05-05T18:10:02.336182586Z",
     "start_time": "2023-05-05T18:10:02.328748373Z"
    },
    "collapsed": false,
    "jupyter": {
     "outputs_hidden": false
    }
   },
   "outputs": [
    {
     "data": {
      "text/plain": [
       "tensor([[1., 1., 1.,  ..., 0., 0., 0.],\n",
       "        [1., 1., 1.,  ..., 0., 0., 0.],\n",
       "        [1., 1., 1.,  ..., 0., 0., 0.],\n",
       "        ...,\n",
       "        [1., 1., 1.,  ..., 1., 1., 1.],\n",
       "        [1., 1., 1.,  ..., 1., 1., 1.],\n",
       "        [1., 1., 1.,  ..., 1., 1., 1.]])"
      ]
     },
     "execution_count": 53,
     "metadata": {},
     "output_type": "execute_result"
    }
   ],
   "source": [
    "time2.float()"
   ]
  },
  {
   "cell_type": "code",
   "execution_count": 60,
   "metadata": {
    "ExecuteTime": {
     "end_time": "2023-05-05T18:17:55.053354412Z",
     "start_time": "2023-05-05T18:17:55.038780333Z"
    },
    "collapsed": false,
    "jupyter": {
     "outputs_hidden": false
    }
   },
   "outputs": [],
   "source": [
    "data = [0, 0, 10, 10, 20, 20]\n",
    "data.reverse()\n",
    "time_test = torch.tensor(data)"
   ]
  },
  {
   "cell_type": "code",
   "execution_count": 61,
   "metadata": {
    "ExecuteTime": {
     "end_time": "2023-05-05T18:17:55.480029763Z",
     "start_time": "2023-05-05T18:17:55.473770775Z"
    },
    "collapsed": false,
    "jupyter": {
     "outputs_hidden": false
    }
   },
   "outputs": [
    {
     "data": {
      "text/plain": [
       "[20, 20, 10, 10, 0, 0]"
      ]
     },
     "execution_count": 61,
     "metadata": {},
     "output_type": "execute_result"
    }
   ],
   "source": [
    "data"
   ]
  },
  {
   "cell_type": "code",
   "execution_count": 63,
   "metadata": {
    "ExecuteTime": {
     "end_time": "2023-05-05T18:18:10.400323576Z",
     "start_time": "2023-05-05T18:18:10.321759070Z"
    },
    "collapsed": false,
    "jupyter": {
     "outputs_hidden": false
    }
   },
   "outputs": [
    {
     "data": {
      "text/plain": [
       "tensor([[False, False,  True,  True,  True,  True],\n",
       "        [False, False,  True,  True,  True,  True],\n",
       "        [False, False, False, False,  True,  True],\n",
       "        [False, False, False, False,  True,  True],\n",
       "        [False, False, False, False, False, False],\n",
       "        [False, False, False, False, False, False]])"
      ]
     },
     "execution_count": 63,
     "metadata": {},
     "output_type": "execute_result"
    }
   ],
   "source": [
    "(time_test.unsqueeze(-1).T < time_test.unsqueeze(-1))"
   ]
  },
  {
   "cell_type": "code",
   "execution_count": 38,
   "metadata": {
    "ExecuteTime": {
     "end_time": "2023-05-05T15:11:15.266611698Z",
     "start_time": "2023-05-05T15:11:15.222856344Z"
    },
    "collapsed": false,
    "jupyter": {
     "outputs_hidden": false
    }
   },
   "outputs": [
    {
     "ename": "SyntaxError",
     "evalue": "EOL while scanning string literal (<ipython-input-38-3f8cd4c64e06>, line 1)",
     "output_type": "error",
     "traceback": [
      "\u001B[0;36m  Cell \u001B[0;32mIn [38], line 1\u001B[0;36m\u001B[0m\n\u001B[0;31m    '/-[]\u001B[0m\n\u001B[0m         ^\u001B[0m\n\u001B[0;31mSyntaxError\u001B[0m\u001B[0;31m:\u001B[0m EOL while scanning string literal\n"
     ]
    }
   ],
   "source": []
  },
  {
   "cell_type": "code",
   "execution_count": null,
   "metadata": {
    "collapsed": false,
    "jupyter": {
     "outputs_hidden": false
    }
   },
   "outputs": [],
   "source": []
  }
 ],
 "metadata": {
  "kernelspec": {
   "display_name": "Python 3",
   "language": "python",
   "name": "python3"
  },
  "language_info": {
   "codemirror_mode": {
    "name": "ipython",
    "version": 3
   },
   "file_extension": ".py",
   "mimetype": "text/x-python",
   "name": "python",
   "nbconvert_exporter": "python",
   "pygments_lexer": "ipython3",
   "version": "3.9.13"
  }
 },
 "nbformat": 4,
 "nbformat_minor": 4
}
